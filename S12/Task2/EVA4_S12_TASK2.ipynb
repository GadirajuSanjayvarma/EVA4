{
  "nbformat": 4,
  "nbformat_minor": 0,
  "metadata": {
    "colab": {
      "name": "EVA4_S12_TASK2.ipynb",
      "provenance": [],
      "collapsed_sections": [],
      "authorship_tag": "ABX9TyPbEzyRBoAbFZeGjGJNBmxX",
      "include_colab_link": true
    },
    "kernelspec": {
      "name": "python3",
      "display_name": "Python 3"
    },
    "accelerator": "GPU"
  },
  "cells": [
    {
      "cell_type": "markdown",
      "metadata": {
        "id": "view-in-github",
        "colab_type": "text"
      },
      "source": [
        "<a href=\"https://colab.research.google.com/github/GadirajuSanjayvarma/EVA4/blob/master/S12/Task2/EVA4_S12_TASK2.ipynb\" target=\"_parent\"><img src=\"https://colab.research.google.com/assets/colab-badge.svg\" alt=\"Open In Colab\"/></a>"
      ]
    },
    {
      "cell_type": "markdown",
      "metadata": {
        "id": "6bfsBOYUwAFO",
        "colab_type": "text"
      },
      "source": [
        "importing libraries "
      ]
    },
    {
      "cell_type": "code",
      "metadata": {
        "id": "TuERCNp1YK7u",
        "colab_type": "code",
        "colab": {}
      },
      "source": [
        "import numpy as np\n",
        "import pandas as pd\n",
        "from matplotlib import pyplot as plt\n",
        "from sklearn.cluster import KMeans"
      ],
      "execution_count": 0,
      "outputs": []
    },
    {
      "cell_type": "code",
      "metadata": {
        "id": "_FzWJD6gPEeN",
        "colab_type": "code",
        "outputId": "bc3531cf-291a-46d0-c83d-ddb70a8310d6",
        "colab": {
          "base_uri": "https://localhost:8080/",
          "height": 134
        }
      },
      "source": [
        "!git clone https://github.com/GadirajuSanjayvarma/EVA4.git\n",
        "import sys\n",
        "import torch"
      ],
      "execution_count": 2,
      "outputs": [
        {
          "output_type": "stream",
          "text": [
            "Cloning into 'EVA4'...\n",
            "remote: Enumerating objects: 5, done.\u001b[K\n",
            "remote: Counting objects: 100% (5/5), done.\u001b[K\n",
            "remote: Compressing objects: 100% (5/5), done.\u001b[K\n",
            "remote: Total 446 (delta 0), reused 0 (delta 0), pack-reused 441\u001b[K\n",
            "Receiving objects: 100% (446/446), 9.81 MiB | 4.51 MiB/s, done.\n",
            "Resolving deltas: 100% (185/185), done.\n"
          ],
          "name": "stdout"
        }
      ]
    },
    {
      "cell_type": "code",
      "metadata": {
        "id": "SFuW2O2PPgmn",
        "colab_type": "code",
        "colab": {}
      },
      "source": [
        "sys.path.append(\"/content/EVA4/S12/Task2/\")"
      ],
      "execution_count": 0,
      "outputs": []
    },
    {
      "cell_type": "code",
      "metadata": {
        "id": "ToQHkW1lQBix",
        "colab_type": "code",
        "outputId": "7273c096-967f-452d-f997-ed66b3ddf4e3",
        "colab": {
          "base_uri": "https://localhost:8080/",
          "height": 33
        }
      },
      "source": [
        "cd /content/EVA4/S12/Task2/"
      ],
      "execution_count": 4,
      "outputs": [
        {
          "output_type": "stream",
          "text": [
            "/content/EVA4/S12/Task2\n"
          ],
          "name": "stdout"
        }
      ]
    },
    {
      "cell_type": "code",
      "metadata": {
        "id": "09XuK2myQftg",
        "colab_type": "code",
        "outputId": "14273599-fba6-4a0e-818c-756e1ac0eb51",
        "colab": {
          "base_uri": "https://localhost:8080/",
          "height": 33
        }
      },
      "source": [
        "ls"
      ],
      "execution_count": 5,
      "outputs": [
        {
          "output_type": "stream",
          "text": [
            "dogs_csv.json  \u001b[0m\u001b[01;34mImages\u001b[0m/\n"
          ],
          "name": "stdout"
        }
      ]
    },
    {
      "cell_type": "code",
      "metadata": {
        "id": "spwgmv0CPR4Y",
        "colab_type": "code",
        "colab": {}
      },
      "source": [
        "import json \n",
        "  \n",
        "# Opening JSON file \n",
        "f = open('dogs_csv.json',) \n",
        "  \n",
        "# returns JSON object as  \n",
        "# a dictionary \n",
        "data = json.load(f) \n",
        "  "
      ],
      "execution_count": 0,
      "outputs": []
    },
    {
      "cell_type": "markdown",
      "metadata": {
        "id": "ZRPpzxM914Ux",
        "colab_type": "text"
      },
      "source": [
        "renaming keys in json to make the keys easy to access in loops"
      ]
    },
    {
      "cell_type": "code",
      "metadata": {
        "id": "bCvhRmKgSH_c",
        "colab_type": "code",
        "colab": {}
      },
      "source": [
        "annotations=dict()\n",
        "i=1\n",
        "for item in data:\n",
        "  annotations[i]=data[item]\n",
        "  i+=1"
      ],
      "execution_count": 0,
      "outputs": []
    },
    {
      "cell_type": "markdown",
      "metadata": {
        "id": "0CGm-nh_8JMI",
        "colab_type": "text"
      },
      "source": [
        "We need to store points in the numpy array so we initialized the numpy array with size length of annotations.For length in images we will store width and height for nested annotations also"
      ]
    },
    {
      "cell_type": "code",
      "metadata": {
        "id": "NwN6TRut2KX4",
        "colab_type": "code",
        "colab": {}
      },
      "source": [
        "import numpy as np\n",
        "import cv2\n",
        "k=0\n",
        "x = np.empty([53,2]) \n",
        "for i in range(50):\n",
        "  #print(i)\n",
        "  img=cv2.imread(\"/content/EVA4/S12/Task2/Images/download{}.jpg\".format(i+1))\n",
        "  a=img.shape\n",
        "  x[k][0]=(annotations[i+1]['regions'][0]['shape_attributes']['width']/(float)(a[1]))\n",
        "  x[k][1]=(annotations[i+1]['regions'][0]['shape_attributes']['height']/(float)(a[0]))\n",
        "  k+=1\n",
        "  #the try will check whether there are any nested annotations in an image\n",
        "  #if there are nested annotations then it will add them to numpy array\n",
        "  try:\n",
        "      x[k][0]=(annotations[i+1]['regions'][1]['shape_attributes']['width']/(float)(a[1]))\n",
        "      x[k][1]=(annotations[i+1]['regions'][1]['shape_attributes']['height']/(float)(a[0]))\n",
        "      k+=1\n",
        "  except:\n",
        "      pass"
      ],
      "execution_count": 0,
      "outputs": []
    },
    {
      "cell_type": "code",
      "metadata": {
        "id": "pyw3lQAaaLTE",
        "colab_type": "code",
        "outputId": "32860840-cbf9-42d7-9bf8-dd22bfc60fea",
        "colab": {
          "base_uri": "https://localhost:8080/",
          "height": 33
        }
      },
      "source": [
        "print(x.shape)"
      ],
      "execution_count": 0,
      "outputs": [
        {
          "output_type": "stream",
          "text": [
            "(53, 2)\n"
          ],
          "name": "stdout"
        }
      ]
    },
    {
      "cell_type": "markdown",
      "metadata": {
        "id": "3XshRTwe8UXg",
        "colab_type": "text"
      },
      "source": [
        "Plotting width and height of annotations for visualization process"
      ]
    },
    {
      "cell_type": "code",
      "metadata": {
        "id": "J6vxUxqJ3J95",
        "colab_type": "code",
        "outputId": "6ae23b63-335d-4218-fac9-abaa25348cab",
        "colab": {
          "base_uri": "https://localhost:8080/",
          "height": 295
        }
      },
      "source": [
        "import matplotlib.pyplot as plt\n",
        "plt.scatter(x[:,0],x[:,1])\n",
        "plt.xlabel('width')\n",
        "plt.ylabel('height')\n",
        "plt.title('visualization of our sample data')\n",
        "plt.show()"
      ],
      "execution_count": 10,
      "outputs": [
        {
          "output_type": "display_data",
          "data": {
            "image/png": "[encoded data removed]",
            "text/plain": [
              "<Figure size 432x288 with 1 Axes>"
            ]
          },
          "metadata": {
            "tags": [],
            "needs_background": "light"
          }
        }
      ]
    },
    {
      "cell_type": "markdown",
      "metadata": {
        "id": "yb5EOhIR8fQm",
        "colab_type": "text"
      },
      "source": [
        "USING ELBOW METHOD TO FIND BEST NO OF CLUSTERS FOR K MEANS"
      ]
    },
    {
      "cell_type": "code",
      "metadata": {
        "id": "6n2HqUBD3Syf",
        "colab_type": "code",
        "outputId": "d2d48061-db34-421a-f5aa-452f698363fe",
        "colab": {
          "base_uri": "https://localhost:8080/",
          "height": 295
        }
      },
      "source": [
        "wcss = []\n",
        "for i in range(1, 11):\n",
        "    kmeans = KMeans(n_clusters=i, init='k-means++', max_iter=300, n_init=10, random_state=0)\n",
        "    kmeans.fit(x)\n",
        "    wcss.append(kmeans.inertia_)\n",
        "plt.plot(range(1, 11), wcss)\n",
        "plt.title('Elbow Method')\n",
        "plt.xlabel('Number of clusters')\n",
        "plt.ylabel('WCSS')\n",
        "plt.show()"
      ],
      "execution_count": 11,
      "outputs": [
        {
          "output_type": "display_data",
          "data": {
            "image/png": "[encoded data removed]",
            "text/plain": [
              "<Figure size 432x288 with 1 Axes>"
            ]
          },
          "metadata": {
            "tags": [],
            "needs_background": "light"
          }
        }
      ]
    },
    {
      "cell_type": "markdown",
      "metadata": {
        "id": "oS8rZR_r8pje",
        "colab_type": "text"
      },
      "source": [
        "FROM ABOVE BEST CLUSTERS ARE 4 SO WE ARE USING 4 FOR NO OF CLUSTERS IN KMEANS"
      ]
    },
    {
      "cell_type": "code",
      "metadata": {
        "id": "lwt2wmAq7Pe4",
        "colab_type": "code",
        "outputId": "8aa969f4-12f0-4e1d-d11f-0e4c98e64fc3",
        "colab": {
          "base_uri": "https://localhost:8080/",
          "height": 295
        }
      },
      "source": [
        "kmeans = KMeans(n_clusters=4, init='k-means++', max_iter=300, n_init=10, random_state=0)\n",
        "colors=['red', 'yellow', 'green', 'blue', 'orange']\n",
        "pred_y = kmeans.fit_predict(x)\n",
        "for i in range(len(pred_y)):\n",
        "    plt.scatter(x[i,0],x[i,1],c=colors[pred_y[i]])\n",
        "    plt.title('visualization of 4 cluster centroids')\n",
        "    plt.xlabel('x values')\n",
        "    plt.ylabel('y-values')\n",
        "plt.scatter(kmeans.cluster_centers_[:, 0], kmeans.cluster_centers_[:, 1], s=300, c='black',marker='*')\n",
        "plt.show()\n"
      ],
      "execution_count": 15,
      "outputs": [
        {
          "output_type": "display_data",
          "data": {
            "image/png": "[encoded data removed]",
            "text/plain": [
              "<Figure size 432x288 with 1 Axes>"
            ]
          },
          "metadata": {
            "tags": [],
            "needs_background": "light"
          }
        }
      ]
    }
  ]
}