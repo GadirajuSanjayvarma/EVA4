{
  "nbformat": 4,
  "nbformat_minor": 0,
  "metadata": {
    "colab": {
      "name": "EVA4-S6-FILE1.ipynb",
      "provenance": [],
      "collapsed_sections": [],
      "include_colab_link": true
    },
    "kernelspec": {
      "name": "python3",
      "display_name": "Python 3"
    },
    "accelerator": "GPU"
  },
  "cells": [
    {
      "cell_type": "markdown",
      "metadata": {
        "id": "view-in-github",
        "colab_type": "text"
      },
      "source": [
        "<a href=\"https://colab.research.google.com/github/GadirajuSanjayvarma/EVA4/blob/master/S6/EVA4_S6_FILE1.ipynb\" target=\"_parent\"><img src=\"https://colab.research.google.com/assets/colab-badge.svg\" alt=\"Open In Colab\"/></a>"
      ]
    },
    {
      "cell_type": "code",
      "metadata": {
        "id": "2pBoFpE6vzyL",
        "colab_type": "code",
        "colab": {}
      },
      "source": [
        "#importing all the modules for model\n",
        "\n",
        "from __future__ import print_function\n",
        "import torch\n",
        "import torch.nn as nn\n",
        "import torch.nn.functional as F\n",
        "import torch.optim as optim\n",
        "from torchvision import transforms,datasets\n",
        "%matplotlib inline\n",
        "import matplotlib.pyplot as plt\n"
      ],
      "execution_count": 0,
      "outputs": []
    },
    {
      "cell_type": "code",
      "metadata": {
        "id": "2h-5TqzkwZOK",
        "colab_type": "code",
        "colab": {}
      },
      "source": [
        "#defining transformations for both training and testing data\n",
        "train_transforms=transforms.Compose(\n",
        "    [\n",
        "     #rotates an image by above mentioned degree and filling the left porions with white\n",
        "     transforms.RandomRotation(degrees=(-15.0,+15.0),fill=(1,)),\n",
        "     #converting an pil image to tensor by scaling b/w 0 and 1\n",
        "     transforms.ToTensor(),\n",
        "     #normalizing an image using mean and standard deviation\n",
        "     transforms.Normalize((0.1307,),(0.3801,))\n",
        "    ])\n",
        "test_transforms=transforms.Compose(\n",
        "    [\n",
        "     #converting an pil image to tensor by scaling b/w 0 and 1\n",
        "     transforms.ToTensor(),\n",
        "     #normalizing an image using mean and standard deviation\n",
        "     transforms.Normalize((0.1307,),(0.3801,))\n",
        "    ])\n",
        "\n"
      ],
      "execution_count": 0,
      "outputs": []
    },
    {
      "cell_type": "code",
      "metadata": {
        "id": "ktCzVxvFyNGY",
        "colab_type": "code",
        "colab": {}
      },
      "source": [
        "#creating datasets for both train and test sets seperately\n",
        "train=datasets.MNIST(\"/data\",train=True,transform=train_transforms,download=True)\n",
        "test=datasets.MNIST(\"/data\",train=False,download=True,transform=test_transforms)"
      ],
      "execution_count": 0,
      "outputs": []
    },
    {
      "cell_type": "code",
      "metadata": {
        "id": "bLekCV62wLUf",
        "colab_type": "code",
        "outputId": "b3bd5a8c-bf0a-4e43-ddbe-f6ab71751c4f",
        "colab": {
          "base_uri": "https://localhost:8080/",
          "height": 33
        }
      },
      "source": [
        "#setting seed\n",
        "SEED=1\n",
        "#checking if cuda ia availble or not\n",
        "cuda=torch.cuda.is_available()\n",
        "print(cuda)\n",
        "if cuda:\n",
        "  torch.cuda.manual_seed(SEED)\n",
        "else:\n",
        "  torch.manual_seed(SEED)\n",
        "#num_workers are useful in efficiently managing the no of processes done by cpu core\n",
        "#if num of workers are more then more amount of memory is allocated to the work\n",
        "#when we set the pin_memory to true it is going to transfer our files from cpu to gpu during training\n",
        "dataloader_args=dict(shuffle=True,batch_size=128,num_workers=4,pin_memory=True) if cuda else  dict(shuffle=True,batch_size=128)\n",
        "train_loader=torch.utils.data.DataLoader(train,**dataloader_args)\n",
        "test_loader=torch.utils.data.DataLoader(test,**dataloader_args)"
      ],
      "execution_count": 0,
      "outputs": [
        {
          "output_type": "stream",
          "text": [
            "True\n"
          ],
          "name": "stdout"
        }
      ]
    },
    {
      "cell_type": "code",
      "metadata": {
        "id": "LPwM5vd0z2X-",
        "colab_type": "code",
        "outputId": "8263cc37-317d-425f-c135-09d7c31fff12",
        "colab": {
          "base_uri": "https://localhost:8080/",
          "height": 300
        }
      },
      "source": [
        "#iter function is helping us to iterate over images and labels\n",
        "dataiter=iter(train_loader)\n",
        "#seperating images and labels\n",
        "images,labels=dataiter.next()\n",
        "print(type(images[0].numpy()))\n",
        "plt.imshow(images[0].squeeze().numpy(),cmap='gray_r',interpolation='nearest')\n",
        "print(images[0].squeeze().size())\n",
        "\n"
      ],
      "execution_count": 0,
      "outputs": [
        {
          "output_type": "stream",
          "text": [
            "<class 'numpy.ndarray'>\n",
            "torch.Size([28, 28])\n"
          ],
          "name": "stdout"
        },
        {
          "output_type": "display_data",
          "data": {
            "image/png": "[encoded data removed]",
            "text/plain": [
              "<Figure size 432x288 with 1 Axes>"
            ]
          },
          "metadata": {
            "tags": []
          }
        }
      ]
    },
    {
      "cell_type": "code",
      "metadata": {
        "id": "ZiPul0t67KBR",
        "colab_type": "code",
        "outputId": "3871f6d5-6691-4e14-c337-a1dcb3f978bc",
        "colab": {
          "base_uri": "https://localhost:8080/",
          "height": 247
        }
      },
      "source": [
        "#it is very useful for clearning and mentioning images(plt,figure())\n",
        "figure=plt.figure()\n",
        "#displaying 100 images of plot 10,10\n",
        "for i in range(100):\n",
        "  plt.subplot(10,10,i+1,)\n",
        "  plt.axis(False)\n",
        "  plt.imshow(images[i].numpy().squeeze(),cmap='gray_r')\n",
        "#we can remove image using plt.close() function\n",
        "plt.close()\n",
        "#in the similar way we are printing another set of images\n",
        "figure=plt.figure()\n",
        "for i in  range(100):\n",
        "  plt.subplot(10,10,i+1,)\n",
        "  plt.axis(False)\n",
        "  plt.imshow(images[i].numpy().squeeze(),cmap='gray_r') \n"
      ],
      "execution_count": 0,
      "outputs": [
        {
          "output_type": "display_data",
          "data": {
            "image/png": "[encoded data removed]",
            "text/plain": [
              "<Figure size 432x288 with 100 Axes>"
            ]
          },
          "metadata": {
            "tags": []
          }
        }
      ]
    },
    {
      "cell_type": "code",
      "metadata": {
        "id": "fhkGNQKL8LCK",
        "colab_type": "code",
        "colab": {}
      },
      "source": [
        "dropout_value = 0.04\n",
        "class Net(nn.Module):\n",
        "    def __init__(self):\n",
        "        super(Net, self).__init__()\n",
        "        # Input Convolution Block\n",
        "        self.convblock1 = nn.Sequential(\n",
        "            nn.Conv2d(in_channels=1, out_channels=10, kernel_size=(3, 3), padding=1, bias=False),\n",
        "            nn.BatchNorm2d(10),\n",
        "            nn.Dropout(dropout_value),\n",
        "            nn.ReLU()\n",
        "        ) # input_side = 28, output_size = 28, RF = 3\n",
        "\n",
        "        # CONVOLUTION BLOCK 1\n",
        "        self.convblock2 = nn.Sequential(\n",
        "            nn.Conv2d(in_channels=10, out_channels=10, kernel_size=(3, 3), padding=1, bias=False),\n",
        "            nn.BatchNorm2d(10),\n",
        "            nn.Dropout(dropout_value),\n",
        "            nn.ReLU()\n",
        "        ) # output_size = 28, RF = 5\n",
        "\n",
        "        # TRANSITION BLOCK 1\n",
        "        self.pool1 = nn.MaxPool2d(2, 2) # output_size = 12, RF = 6\n",
        "\n",
        "        self.convblock3 = nn.Sequential(\n",
        "            nn.Conv2d(in_channels=10, out_channels=10, kernel_size=(3, 3), padding=0, bias=False),\n",
        "            nn.BatchNorm2d(10),\n",
        "            nn.Dropout(dropout_value),\n",
        "            nn.ReLU()\n",
        "        ) # output_size = 12, RF = 10\n",
        "\n",
        "        # CONVOLUTION BLOCK 2\n",
        "        self.convblock4 = nn.Sequential(\n",
        "            nn.Conv2d(in_channels=10, out_channels=10, kernel_size=(3, 3), padding=0, bias=False),\n",
        "            nn.BatchNorm2d(10),\n",
        "            nn.ReLU()\n",
        "        ) # output_size = 10, RF = 14\n",
        "        self.convblock5 = nn.Sequential(\n",
        "            nn.Conv2d(in_channels=10, out_channels=10, kernel_size=(3, 3), padding=0, bias=False),\n",
        "            nn.BatchNorm2d(10),\n",
        "            nn.Dropout(dropout_value),\n",
        "            nn.ReLU()\n",
        "        ) # output_size = 8, RF = 18\n",
        "\n",
        "        self.convblock6 = nn.Sequential(\n",
        "            nn.Conv2d(in_channels=10, out_channels=16, kernel_size=(3, 3), padding=0, bias=False),\n",
        "            nn.BatchNorm2d(16),\n",
        "            nn.Dropout(dropout_value),\n",
        "            nn.ReLU()\n",
        "        ) # output_size = 6, RF = 22\n",
        "\n",
        "        self.convblock7 = nn.Sequential(\n",
        "            nn.Conv2d(in_channels=16, out_channels=16, kernel_size=(3, 3), padding=0, bias=False),\n",
        "            nn.BatchNorm2d(16),\n",
        "            nn.Dropout(dropout_value),\n",
        "            nn.ReLU()\n",
        "        ) # output_size = 4, RF = 26\n",
        "\n",
        "        # OUTPUT BLOCK\n",
        "        self.gap = nn.AvgPool2d(kernel_size=(4,4)) \n",
        "\n",
        "        self.convblock8 = nn.Sequential(\n",
        "            nn.Conv2d(in_channels=16, out_channels=10, kernel_size=(1, 1), padding=0, bias=False),\n",
        "            # nn.ReLU() NEVER!\n",
        "        ) # output_size = 1, RF = 26\n",
        "\n",
        "    def forward(self, x):\n",
        "        x = self.convblock1(x)\n",
        "        x = self.convblock2(x)\n",
        "        x = self.pool1(x)\n",
        "        x = self.convblock3(x)\n",
        "        x = self.convblock4(x)\n",
        "        x = self.convblock5(x)\n",
        "        x = self.convblock6(x)\n",
        "        x = self.convblock7(x)\n",
        "        x = self.gap(x)\n",
        "        x = self.convblock8(x)\n",
        "        x = x.view(-1, 10)\n",
        "        return F.log_softmax(x, dim=-1)"
      ],
      "execution_count": 0,
      "outputs": []
    },
    {
      "cell_type": "code",
      "metadata": {
        "id": "YugGWkwLHTYk",
        "colab_type": "code",
        "outputId": "2eb4f74f-3f23-4e51-dd83-43caa624ce6c",
        "colab": {
          "base_uri": "https://localhost:8080/",
          "height": 769
        }
      },
      "source": [
        "!pip install torchsummary\n",
        "from torchsummary import summary\n",
        "#checking whether cuda is available or not based on gpu condition\n",
        "#if cuda is available then device will be cuda else cpu\n",
        "cuda=torch.cuda.is_available()\n",
        "print(cuda)\n",
        "device=\"cuda\" if cuda else \"cpu\"\n",
        "#we are sending model to summary function\n",
        "model=Net().to(device)\n",
        "summary(model,input_size=(1,28,28))"
      ],
      "execution_count": 0,
      "outputs": [
        {
          "output_type": "stream",
          "text": [
            "Requirement already satisfied: torchsummary in /usr/local/lib/python3.6/dist-packages (1.5.1)\n",
            "True\n",
            "----------------------------------------------------------------\n",
            "        Layer (type)               Output Shape         Param #\n",
            "================================================================\n",
            "            Conv2d-1           [-1, 10, 28, 28]              90\n",
            "       BatchNorm2d-2           [-1, 10, 28, 28]              20\n",
            "           Dropout-3           [-1, 10, 28, 28]               0\n",
            "              ReLU-4           [-1, 10, 28, 28]               0\n",
            "            Conv2d-5           [-1, 10, 28, 28]             900\n",
            "       BatchNorm2d-6           [-1, 10, 28, 28]              20\n",
            "           Dropout-7           [-1, 10, 28, 28]               0\n",
            "              ReLU-8           [-1, 10, 28, 28]               0\n",
            "         MaxPool2d-9           [-1, 10, 14, 14]               0\n",
            "           Conv2d-10           [-1, 10, 12, 12]             900\n",
            "      BatchNorm2d-11           [-1, 10, 12, 12]              20\n",
            "          Dropout-12           [-1, 10, 12, 12]               0\n",
            "             ReLU-13           [-1, 10, 12, 12]               0\n",
            "           Conv2d-14           [-1, 10, 10, 10]             900\n",
            "      BatchNorm2d-15           [-1, 10, 10, 10]              20\n",
            "             ReLU-16           [-1, 10, 10, 10]               0\n",
            "           Conv2d-17             [-1, 10, 8, 8]             900\n",
            "      BatchNorm2d-18             [-1, 10, 8, 8]              20\n",
            "          Dropout-19             [-1, 10, 8, 8]               0\n",
            "             ReLU-20             [-1, 10, 8, 8]               0\n",
            "           Conv2d-21             [-1, 16, 6, 6]           1,440\n",
            "      BatchNorm2d-22             [-1, 16, 6, 6]              32\n",
            "          Dropout-23             [-1, 16, 6, 6]               0\n",
            "             ReLU-24             [-1, 16, 6, 6]               0\n",
            "           Conv2d-25             [-1, 16, 4, 4]           2,304\n",
            "      BatchNorm2d-26             [-1, 16, 4, 4]              32\n",
            "          Dropout-27             [-1, 16, 4, 4]               0\n",
            "             ReLU-28             [-1, 16, 4, 4]               0\n",
            "        AvgPool2d-29             [-1, 16, 1, 1]               0\n",
            "           Conv2d-30             [-1, 10, 1, 1]             160\n",
            "================================================================\n",
            "Total params: 7,758\n",
            "Trainable params: 7,758\n",
            "Non-trainable params: 0\n",
            "----------------------------------------------------------------\n",
            "Input size (MB): 0.00\n",
            "Forward/backward pass size (MB): 0.61\n",
            "Params size (MB): 0.03\n",
            "Estimated Total Size (MB): 0.64\n",
            "----------------------------------------------------------------\n"
          ],
          "name": "stdout"
        }
      ]
    },
    {
      "cell_type": "markdown",
      "metadata": {
        "id": "dreNln-GLpTM",
        "colab_type": "text"
      },
      "source": [
        "**Model training without L1 and L2 regularization**"
      ]
    },
    {
      "cell_type": "code",
      "metadata": {
        "id": "FNQRUMg6IPQl",
        "colab_type": "code",
        "colab": {}
      },
      "source": [
        "#for having cooler graphics we can have tqdm installed\n",
        "from tqdm import tqdm\n",
        "#we are initialising lists to contain loss and accuracy values to plot some graph\n",
        "test_losses=[]\n",
        "test_accuracy=[]\n",
        "images_array=[]\n",
        "predicted_value=[]\n",
        "actual_value=[]\n",
        "count_images=0\n",
        "def train(model,device,scheduler,train_loader,epoch,optimizer):\n",
        "  #we are calling model.train() so that our model prepares itself in training mode and all other things like batch normalisationa nd dropout behaves accordingly.\n",
        "  model.train()\n",
        "  #so tqdm() just acts on a iterator and it will jsut  gives representations in form of progressbar.\n",
        "  pbar=tqdm(train_loader)\n",
        "  #variables which contain correct values and processed values which helps in finding accuracy and loss\n",
        "  correct=0\n",
        "  processed=0\n",
        "  for batch_idx,(data,target) in enumerate(pbar):\n",
        "    #sending data and target samples to device which is gpu\n",
        "    data,target=data.to(device),target.to(device)\n",
        "    #we are setting our gradients to zero which is very useful\n",
        "    optimizer.zero_grad()\n",
        "    #predicting the output\n",
        "    y_pred=model(data)#print(\"not matching \",\"predicted value is\",predicted[j].item(),\" Actual value is \",target[j].item())\n",
        "    #calculating the loss\n",
        "    loss=F.nll_loss(y_pred,target)\n",
        "    #updating loss and taking a step by optimizer\n",
        "    loss.backward()\n",
        "    optimizer.step()\n",
        "    #updating tqdm and pbar\n",
        "    #here y_pred will be equal to no of channels in our output\n",
        "    #actually we need that for backpropagation\n",
        "    #now we will find highest value which will be our prediction\n",
        "    #so we will use argmax to fing max value for each image output\n",
        "    #correct will be no of images correctly processes in batch.we will compare pred value to target.if it is equal it will add one value to correct\n",
        "    pred=y_pred.argmax(dim=1,keepdim=True)\n",
        "    processed+=len(data)\n",
        "    #.sum() will count no of trues in prediction for each batch and .item() will convert our tensor output to scalar output\n",
        "    correct+=pred.eq(target.view_as(pred)).sum().item()\n",
        "    #we are appending losses into train_accuracy and we are also appending accuracy at end of each epoch\n",
        "    pbar.set_description(desc=f'Loss={loss.item()} Batch_id={batch_idx} Accuracy={100*correct/processed:0.2f}')\n",
        "    scheduler.step()\n",
        "\n",
        "def test(model,device,test_loader):\n",
        "  global count_images\n",
        "  loss=0\n",
        "  model.eval()\n",
        "  test_loss=0\n",
        "  correct=0\n",
        "  with torch.no_grad():\n",
        "    for data,target in (test_loader):\n",
        "      data,target=data.to(device),target.to(device)\n",
        "      output=model(data)\n",
        "      test_loss+=F.nll_loss(output,target,reduction='sum').item()\n",
        "      predicted=output.argmax(dim=1,keepdim=True)\n",
        "      #print(len(predicted))\n",
        "      if(count_images<=26):\n",
        "          for j in range(len(predicted)):\n",
        "              if(predicted[j]!=target[j]):\n",
        "                  images_array.append(data[j])\n",
        "                  predicted_value.append(predicted[j].item())\n",
        "                  actual_value.append(target[j].item())\n",
        "                  count_images+=1\n",
        "\n",
        "      correct+=predicted.eq(target.view_as(predicted)).sum().item()\n",
        "    \n",
        "    test_loss /= len(test_loader.dataset)\n",
        "    test_losses.append(test_loss)\n",
        "    \n",
        "    print('\\nTest set: Average loss: {:.4f}, Accuracy: {}/{} ({:.2f}%)\\n'.format(\n",
        "        test_loss, correct, len(test_loader.dataset),\n",
        "        100. * correct / len(test_loader.dataset)))\n",
        "    \n",
        "    test_accuracy.append(100. * correct / len(test_loader.dataset))\n",
        "    \n"
      ],
      "execution_count": 0,
      "outputs": []
    },
    {
      "cell_type": "code",
      "metadata": {
        "id": "rr29LF_Eb8gt",
        "colab_type": "code",
        "outputId": "c706c1b5-6842-4b70-dace-20a8db7c241e",
        "colab": {
          "base_uri": "https://localhost:8080/",
          "height": 1000
        }
      },
      "source": [
        "#importing optimizing step lr and cycle lr from torch.optim.lr_scheduler\n",
        "from torch.optim.lr_scheduler import StepLR\n",
        "from torch.optim.lr_scheduler import OneCycleLR\n",
        "device=\"cuda\" if cuda else \"cpu\"\n",
        "model=Net().to(device)\n",
        "optimizer=optim.SGD(model.parameters(),lr=0.01,momentum=0.9)\n",
        "#scheduler=StepLR(optimizer,gamma=0.5,step_size=5)\n",
        "scheduler=OneCycleLR(optimizer,max_lr=0.1,steps_per_epoch=len(train_loader),epochs=40)\n",
        "EPOCHS=40\n",
        "for epoch in range(EPOCHS):\n",
        "  print('epochs',epoch)\n",
        "  train(model,device,scheduler,train_loader,epoch,optimizer) \n",
        "  print(scheduler.get_lr())\n",
        "  test(model,device,test_loader)\n"
      ],
      "execution_count": 0,
      "outputs": [
        {
          "output_type": "stream",
          "text": [
            "\r  0%|          | 0/469 [00:00<?, ?it/s]"
          ],
          "name": "stderr"
        },
        {
          "output_type": "stream",
          "text": [
            "epochs 0\n"
          ],
          "name": "stdout"
        },
        {
          "output_type": "stream",
          "text": [
            "Loss=0.13010968267917633 Batch_id=468 Accuracy=75.58: 100%|██████████| 469/469 [00:15<00:00, 30.30it/s]"
          ],
          "name": "stderr"
        },
        {
          "output_type": "stream",
          "text": [
            "[0.005636138390090167]\n"
          ],
          "name": "stdout"
        },
        {
          "output_type": "stream",
          "text": [
            "\n",
            "  0%|          | 0/469 [00:00<?, ?it/s]"
          ],
          "name": "stderr"
        },
        {
          "output_type": "stream",
          "text": [
            "\n",
            "Test set: Average loss: 0.1190, Accuracy: 9684/10000 (96.84%)\n",
            "\n",
            "epochs 1\n"
          ],
          "name": "stdout"
        },
        {
          "output_type": "stream",
          "text": [
            "Loss=0.11723044514656067 Batch_id=468 Accuracy=96.70: 100%|██████████| 469/469 [00:15<00:00, 29.82it/s]\n"
          ],
          "name": "stderr"
        },
        {
          "output_type": "stream",
          "text": [
            "[0.010433014025713727]\n"
          ],
          "name": "stdout"
        },
        {
          "output_type": "stream",
          "text": [
            "\r  0%|          | 0/469 [00:00<?, ?it/s]"
          ],
          "name": "stderr"
        },
        {
          "output_type": "stream",
          "text": [
            "\n",
            "Test set: Average loss: 0.0484, Accuracy: 9852/10000 (98.52%)\n",
            "\n",
            "epochs 2\n"
          ],
          "name": "stdout"
        },
        {
          "output_type": "stream",
          "text": [
            "Loss=0.09976458549499512 Batch_id=468 Accuracy=97.51: 100%|██████████| 469/469 [00:15<00:00, 29.49it/s]"
          ],
          "name": "stderr"
        },
        {
          "output_type": "stream",
          "text": [
            "[0.018063612224373485]\n"
          ],
          "name": "stdout"
        },
        {
          "output_type": "stream",
          "text": [
            "\n",
            "  0%|          | 0/469 [00:00<?, ?it/s]"
          ],
          "name": "stderr"
        },
        {
          "output_type": "stream",
          "text": [
            "\n",
            "Test set: Average loss: 0.0545, Accuracy: 9828/10000 (98.28%)\n",
            "\n",
            "epochs 3\n"
          ],
          "name": "stdout"
        },
        {
          "output_type": "stream",
          "text": [
            "Loss=0.1212669387459755 Batch_id=468 Accuracy=97.77: 100%|██████████| 469/469 [00:15<00:00, 29.81it/s]"
          ],
          "name": "stderr"
        },
        {
          "output_type": "stream",
          "text": [
            "[0.028007736542228656]\n"
          ],
          "name": "stdout"
        },
        {
          "output_type": "stream",
          "text": [
            "\n",
            "  0%|          | 0/469 [00:00<?, ?it/s]"
          ],
          "name": "stderr"
        },
        {
          "output_type": "stream",
          "text": [
            "\n",
            "Test set: Average loss: 0.0349, Accuracy: 9891/10000 (98.91%)\n",
            "\n",
            "epochs 4\n"
          ],
          "name": "stdout"
        },
        {
          "output_type": "stream",
          "text": [
            "Loss=0.024371981620788574 Batch_id=468 Accuracy=98.03: 100%|██████████| 469/469 [00:15<00:00, 29.87it/s]"
          ],
          "name": "stderr"
        },
        {
          "output_type": "stream",
          "text": [
            "[0.03958747183126786]\n"
          ],
          "name": "stdout"
        },
        {
          "output_type": "stream",
          "text": [
            "\n",
            "  0%|          | 0/469 [00:00<?, ?it/s]"
          ],
          "name": "stderr"
        },
        {
          "output_type": "stream",
          "text": [
            "\n",
            "Test set: Average loss: 0.0551, Accuracy: 9808/10000 (98.08%)\n",
            "\n",
            "epochs 5\n"
          ],
          "name": "stdout"
        },
        {
          "output_type": "stream",
          "text": [
            "Loss=0.04526326060295105 Batch_id=468 Accuracy=98.12: 100%|██████████| 469/469 [00:15<00:00, 29.58it/s]"
          ],
          "name": "stderr"
        },
        {
          "output_type": "stream",
          "text": [
            "[0.05201339936426283]\n"
          ],
          "name": "stdout"
        },
        {
          "output_type": "stream",
          "text": [
            "\n",
            "  0%|          | 0/469 [00:00<?, ?it/s]"
          ],
          "name": "stderr"
        },
        {
          "output_type": "stream",
          "text": [
            "\n",
            "Test set: Average loss: 0.0388, Accuracy: 9884/10000 (98.84%)\n",
            "\n",
            "epochs 6\n"
          ],
          "name": "stdout"
        },
        {
          "output_type": "stream",
          "text": [
            "Loss=0.02313711680471897 Batch_id=468 Accuracy=98.31: 100%|██████████| 469/469 [00:15<00:00, 30.19it/s]"
          ],
          "name": "stderr"
        },
        {
          "output_type": "stream",
          "text": [
            "[0.06443841342999641]\n"
          ],
          "name": "stdout"
        },
        {
          "output_type": "stream",
          "text": [
            "\n",
            "  0%|          | 0/469 [00:00<?, ?it/s]"
          ],
          "name": "stderr"
        },
        {
          "output_type": "stream",
          "text": [
            "\n",
            "Test set: Average loss: 0.0267, Accuracy: 9919/10000 (99.19%)\n",
            "\n",
            "epochs 7\n"
          ],
          "name": "stdout"
        },
        {
          "output_type": "stream",
          "text": [
            "Loss=0.031110132113099098 Batch_id=468 Accuracy=98.51: 100%|██████████| 469/469 [00:15<00:00, 30.33it/s]"
          ],
          "name": "stderr"
        },
        {
          "output_type": "stream",
          "text": [
            "[0.07601547059053707]\n"
          ],
          "name": "stdout"
        },
        {
          "output_type": "stream",
          "text": [
            "\n",
            "  0%|          | 0/469 [00:00<?, ?it/s]"
          ],
          "name": "stderr"
        },
        {
          "output_type": "stream",
          "text": [
            "\n",
            "Test set: Average loss: 0.0292, Accuracy: 9901/10000 (99.01%)\n",
            "\n",
            "epochs 8\n"
          ],
          "name": "stdout"
        },
        {
          "output_type": "stream",
          "text": [
            "Loss=0.08803173154592514 Batch_id=468 Accuracy=98.49: 100%|██████████| 469/469 [00:15<00:00, 30.49it/s]"
          ],
          "name": "stderr"
        },
        {
          "output_type": "stream",
          "text": [
            "[0.08595533469319193]\n"
          ],
          "name": "stdout"
        },
        {
          "output_type": "stream",
          "text": [
            "\n",
            "  0%|          | 0/469 [00:00<?, ?it/s]"
          ],
          "name": "stderr"
        },
        {
          "output_type": "stream",
          "text": [
            "\n",
            "Test set: Average loss: 0.0218, Accuracy: 9928/10000 (99.28%)\n",
            "\n",
            "epochs 9\n"
          ],
          "name": "stdout"
        },
        {
          "output_type": "stream",
          "text": [
            "Loss=0.07607302814722061 Batch_id=468 Accuracy=98.59: 100%|██████████| 469/469 [00:15<00:00, 31.03it/s]"
          ],
          "name": "stderr"
        },
        {
          "output_type": "stream",
          "text": [
            "[0.09358038101918463]\n"
          ],
          "name": "stdout"
        },
        {
          "output_type": "stream",
          "text": [
            "\n",
            "  0%|          | 0/469 [00:00<?, ?it/s]"
          ],
          "name": "stderr"
        },
        {
          "output_type": "stream",
          "text": [
            "\n",
            "Test set: Average loss: 0.0227, Accuracy: 9937/10000 (99.37%)\n",
            "\n",
            "epochs 10\n"
          ],
          "name": "stdout"
        },
        {
          "output_type": "stream",
          "text": [
            "Loss=0.01569087617099285 Batch_id=468 Accuracy=98.64: 100%|██████████| 469/469 [00:15<00:00, 29.47it/s]"
          ],
          "name": "stderr"
        },
        {
          "output_type": "stream",
          "text": [
            "[0.09837079160934131]\n"
          ],
          "name": "stdout"
        },
        {
          "output_type": "stream",
          "text": [
            "\n",
            "  0%|          | 0/469 [00:00<?, ?it/s]"
          ],
          "name": "stderr"
        },
        {
          "output_type": "stream",
          "text": [
            "\n",
            "Test set: Average loss: 0.0234, Accuracy: 9916/10000 (99.16%)\n",
            "\n",
            "epochs 11\n"
          ],
          "name": "stdout"
        },
        {
          "output_type": "stream",
          "text": [
            "Loss=0.05606856942176819 Batch_id=468 Accuracy=98.68: 100%|██████████| 469/469 [00:16<00:00, 29.29it/s]\n"
          ],
          "name": "stderr"
        },
        {
          "output_type": "stream",
          "text": [
            "[0.09999999856920878]\n"
          ],
          "name": "stdout"
        },
        {
          "output_type": "stream",
          "text": [
            "\r  0%|          | 0/469 [00:00<?, ?it/s]"
          ],
          "name": "stderr"
        },
        {
          "output_type": "stream",
          "text": [
            "\n",
            "Test set: Average loss: 0.0239, Accuracy: 9925/10000 (99.25%)\n",
            "\n",
            "epochs 12\n"
          ],
          "name": "stdout"
        },
        {
          "output_type": "stream",
          "text": [
            "Loss=0.009212985634803772 Batch_id=468 Accuracy=98.74: 100%|██████████| 469/469 [00:15<00:00, 29.90it/s]"
          ],
          "name": "stderr"
        },
        {
          "output_type": "stream",
          "text": [
            "[0.09968427106235794]\n"
          ],
          "name": "stdout"
        },
        {
          "output_type": "stream",
          "text": [
            "\n",
            "  0%|          | 0/469 [00:00<?, ?it/s]"
          ],
          "name": "stderr"
        },
        {
          "output_type": "stream",
          "text": [
            "\n",
            "Test set: Average loss: 0.0232, Accuracy: 9923/10000 (99.23%)\n",
            "\n",
            "epochs 13\n"
          ],
          "name": "stdout"
        },
        {
          "output_type": "stream",
          "text": [
            "Loss=0.004811366554349661 Batch_id=468 Accuracy=98.75: 100%|██████████| 469/469 [00:15<00:00, 30.23it/s]\n"
          ],
          "name": "stderr"
        },
        {
          "output_type": "stream",
          "text": [
            "[0.09874373753452848]\n"
          ],
          "name": "stdout"
        },
        {
          "output_type": "stream",
          "text": [
            "\r  0%|          | 0/469 [00:00<?, ?it/s]"
          ],
          "name": "stderr"
        },
        {
          "output_type": "stream",
          "text": [
            "\n",
            "Test set: Average loss: 0.0178, Accuracy: 9943/10000 (99.43%)\n",
            "\n",
            "epochs 14\n"
          ],
          "name": "stdout"
        },
        {
          "output_type": "stream",
          "text": [
            "Loss=0.06771165877580643 Batch_id=468 Accuracy=98.78: 100%|██████████| 469/469 [00:15<00:00, 30.20it/s]\n"
          ],
          "name": "stderr"
        },
        {
          "output_type": "stream",
          "text": [
            "[0.09719022574054306]\n"
          ],
          "name": "stdout"
        },
        {
          "output_type": "stream",
          "text": [
            "\r  0%|          | 0/469 [00:00<?, ?it/s]"
          ],
          "name": "stderr"
        },
        {
          "output_type": "stream",
          "text": [
            "\n",
            "Test set: Average loss: 0.0191, Accuracy: 9940/10000 (99.40%)\n",
            "\n",
            "epochs 15\n"
          ],
          "name": "stdout"
        },
        {
          "output_type": "stream",
          "text": [
            "Loss=0.017132515087723732 Batch_id=468 Accuracy=98.87: 100%|██████████| 469/469 [00:15<00:00, 29.48it/s]"
          ],
          "name": "stderr"
        },
        {
          "output_type": "stream",
          "text": [
            "[0.09504327199257961]\n"
          ],
          "name": "stdout"
        },
        {
          "output_type": "stream",
          "text": [
            "\n",
            "  0%|          | 0/469 [00:00<?, ?it/s]"
          ],
          "name": "stderr"
        },
        {
          "output_type": "stream",
          "text": [
            "\n",
            "Test set: Average loss: 0.0196, Accuracy: 9938/10000 (99.38%)\n",
            "\n",
            "epochs 16\n"
          ],
          "name": "stdout"
        },
        {
          "output_type": "stream",
          "text": [
            "Loss=0.026502901688218117 Batch_id=468 Accuracy=98.91: 100%|██████████| 469/469 [00:15<00:00, 30.32it/s]"
          ],
          "name": "stderr"
        },
        {
          "output_type": "stream",
          "text": [
            "[0.09232987547971035]\n"
          ],
          "name": "stdout"
        },
        {
          "output_type": "stream",
          "text": [
            "\n",
            "  0%|          | 0/469 [00:00<?, ?it/s]"
          ],
          "name": "stderr"
        },
        {
          "output_type": "stream",
          "text": [
            "\n",
            "Test set: Average loss: 0.0201, Accuracy: 9933/10000 (99.33%)\n",
            "\n",
            "epochs 17\n"
          ],
          "name": "stdout"
        },
        {
          "output_type": "stream",
          "text": [
            "Loss=0.005482728127390146 Batch_id=468 Accuracy=98.88: 100%|██████████| 469/469 [00:15<00:00, 29.62it/s]\n"
          ],
          "name": "stderr"
        },
        {
          "output_type": "stream",
          "text": [
            "[0.08908415873743396]\n"
          ],
          "name": "stdout"
        },
        {
          "output_type": "stream",
          "text": [
            "\r  0%|          | 0/469 [00:00<?, ?it/s]"
          ],
          "name": "stderr"
        },
        {
          "output_type": "stream",
          "text": [
            "\n",
            "Test set: Average loss: 0.0196, Accuracy: 9937/10000 (99.37%)\n",
            "\n",
            "epochs 18\n"
          ],
          "name": "stdout"
        },
        {
          "output_type": "stream",
          "text": [
            "Loss=0.11325465887784958 Batch_id=468 Accuracy=98.92: 100%|██████████| 469/469 [00:15<00:00, 29.82it/s]\n"
          ],
          "name": "stderr"
        },
        {
          "output_type": "stream",
          "text": [
            "[0.08534693853699324]\n"
          ],
          "name": "stdout"
        },
        {
          "output_type": "stream",
          "text": [
            "\r  0%|          | 0/469 [00:00<?, ?it/s]"
          ],
          "name": "stderr"
        },
        {
          "output_type": "stream",
          "text": [
            "\n",
            "Test set: Average loss: 0.0198, Accuracy: 9939/10000 (99.39%)\n",
            "\n",
            "epochs 19\n"
          ],
          "name": "stdout"
        },
        {
          "output_type": "stream",
          "text": [
            "Loss=0.0599910169839859 Batch_id=468 Accuracy=98.94: 100%|██████████| 469/469 [00:15<00:00, 29.80it/s]\n"
          ],
          "name": "stderr"
        },
        {
          "output_type": "stream",
          "text": [
            "[0.08116521259079444]\n"
          ],
          "name": "stdout"
        },
        {
          "output_type": "stream",
          "text": [
            "\r  0%|          | 0/469 [00:00<?, ?it/s]"
          ],
          "name": "stderr"
        },
        {
          "output_type": "stream",
          "text": [
            "\n",
            "Test set: Average loss: 0.0158, Accuracy: 9948/10000 (99.48%)\n",
            "\n",
            "epochs 20\n"
          ],
          "name": "stdout"
        },
        {
          "output_type": "stream",
          "text": [
            "Loss=0.03702826797962189 Batch_id=468 Accuracy=98.95: 100%|██████████| 469/469 [00:15<00:00, 29.50it/s]\n"
          ],
          "name": "stderr"
        },
        {
          "output_type": "stream",
          "text": [
            "[0.0765915685289049]\n"
          ],
          "name": "stdout"
        },
        {
          "output_type": "stream",
          "text": [
            "\r  0%|          | 0/469 [00:00<?, ?it/s]"
          ],
          "name": "stderr"
        },
        {
          "output_type": "stream",
          "text": [
            "\n",
            "Test set: Average loss: 0.0182, Accuracy: 9941/10000 (99.41%)\n",
            "\n",
            "epochs 21\n"
          ],
          "name": "stdout"
        },
        {
          "output_type": "stream",
          "text": [
            "Loss=0.005909234285354614 Batch_id=468 Accuracy=99.01: 100%|██████████| 469/469 [00:15<00:00, 30.33it/s]"
          ],
          "name": "stderr"
        },
        {
          "output_type": "stream",
          "text": [
            "[0.07168352257909298]\n"
          ],
          "name": "stdout"
        },
        {
          "output_type": "stream",
          "text": [
            "\n",
            "  0%|          | 0/469 [00:00<?, ?it/s]"
          ],
          "name": "stderr"
        },
        {
          "output_type": "stream",
          "text": [
            "\n",
            "Test set: Average loss: 0.0150, Accuracy: 9950/10000 (99.50%)\n",
            "\n",
            "epochs 22\n"
          ],
          "name": "stdout"
        },
        {
          "output_type": "stream",
          "text": [
            "Loss=0.007895986549556255 Batch_id=468 Accuracy=98.97: 100%|██████████| 469/469 [00:15<00:00, 29.42it/s]"
          ],
          "name": "stderr"
        },
        {
          "output_type": "stream",
          "text": [
            "[0.06650279626689218]\n"
          ],
          "name": "stdout"
        },
        {
          "output_type": "stream",
          "text": [
            "\n",
            "  0%|          | 0/469 [00:00<?, ?it/s]"
          ],
          "name": "stderr"
        },
        {
          "output_type": "stream",
          "text": [
            "\n",
            "Test set: Average loss: 0.0176, Accuracy: 9951/10000 (99.51%)\n",
            "\n",
            "epochs 23\n"
          ],
          "name": "stdout"
        },
        {
          "output_type": "stream",
          "text": [
            "Loss=0.010869279503822327 Batch_id=468 Accuracy=99.04: 100%|██████████| 469/469 [00:15<00:00, 29.91it/s]"
          ],
          "name": "stderr"
        },
        {
          "output_type": "stream",
          "text": [
            "[0.0611145402316058]\n"
          ],
          "name": "stdout"
        },
        {
          "output_type": "stream",
          "text": [
            "\n",
            "  0%|          | 0/469 [00:00<?, ?it/s]"
          ],
          "name": "stderr"
        },
        {
          "output_type": "stream",
          "text": [
            "\n",
            "Test set: Average loss: 0.0153, Accuracy: 9947/10000 (99.47%)\n",
            "\n",
            "epochs 24\n"
          ],
          "name": "stdout"
        },
        {
          "output_type": "stream",
          "text": [
            "Loss=0.007233381271362305 Batch_id=468 Accuracy=99.04: 100%|██████████| 469/469 [00:15<00:00, 29.62it/s]\n"
          ],
          "name": "stderr"
        },
        {
          "output_type": "stream",
          "text": [
            "[0.055586514919216574]\n"
          ],
          "name": "stdout"
        },
        {
          "output_type": "stream",
          "text": [
            "\r  0%|          | 0/469 [00:00<?, ?it/s]"
          ],
          "name": "stderr"
        },
        {
          "output_type": "stream",
          "text": [
            "\n",
            "Test set: Average loss: 0.0158, Accuracy: 9944/10000 (99.44%)\n",
            "\n",
            "epochs 25\n"
          ],
          "name": "stdout"
        },
        {
          "output_type": "stream",
          "text": [
            "Loss=0.011795456521213055 Batch_id=468 Accuracy=99.10: 100%|██████████| 469/469 [00:15<00:00, 29.55it/s]"
          ],
          "name": "stderr"
        },
        {
          "output_type": "stream",
          "text": [
            "[0.0499882384554628]\n"
          ],
          "name": "stdout"
        },
        {
          "output_type": "stream",
          "text": [
            "\n",
            "  0%|          | 0/469 [00:00<?, ?it/s]"
          ],
          "name": "stderr"
        },
        {
          "output_type": "stream",
          "text": [
            "\n",
            "Test set: Average loss: 0.0150, Accuracy: 9956/10000 (99.56%)\n",
            "\n",
            "epochs 26\n"
          ],
          "name": "stdout"
        },
        {
          "output_type": "stream",
          "text": [
            "Loss=0.00220874953083694 Batch_id=468 Accuracy=99.12: 100%|██████████| 469/469 [00:16<00:00, 28.17it/s]\n"
          ],
          "name": "stderr"
        },
        {
          "output_type": "stream",
          "text": [
            "[0.04439011241507181]\n"
          ],
          "name": "stdout"
        },
        {
          "output_type": "stream",
          "text": [
            "\r  0%|          | 0/469 [00:00<?, ?it/s]"
          ],
          "name": "stderr"
        },
        {
          "output_type": "stream",
          "text": [
            "\n",
            "Test set: Average loss: 0.0147, Accuracy: 9955/10000 (99.55%)\n",
            "\n",
            "epochs 27\n"
          ],
          "name": "stdout"
        },
        {
          "output_type": "stream",
          "text": [
            "Loss=0.08317295461893082 Batch_id=468 Accuracy=99.13: 100%|██████████| 469/469 [00:15<00:00, 29.55it/s]\n"
          ],
          "name": "stderr"
        },
        {
          "output_type": "stream",
          "text": [
            "[0.03886253648110994]\n"
          ],
          "name": "stdout"
        },
        {
          "output_type": "stream",
          "text": [
            "\r  0%|          | 0/469 [00:00<?, ?it/s]"
          ],
          "name": "stderr"
        },
        {
          "output_type": "stream",
          "text": [
            "\n",
            "Test set: Average loss: 0.0175, Accuracy: 9945/10000 (99.45%)\n",
            "\n",
            "epochs 28\n"
          ],
          "name": "stdout"
        },
        {
          "output_type": "stream",
          "text": [
            "Loss=0.02221669815480709 Batch_id=468 Accuracy=99.16: 100%|██████████| 469/469 [00:15<00:00, 29.48it/s]"
          ],
          "name": "stderr"
        },
        {
          "output_type": "stream",
          "text": [
            "[0.03347502312812102]\n"
          ],
          "name": "stdout"
        },
        {
          "output_type": "stream",
          "text": [
            "\n",
            "  0%|          | 0/469 [00:00<?, ?it/s]"
          ],
          "name": "stderr"
        },
        {
          "output_type": "stream",
          "text": [
            "\n",
            "Test set: Average loss: 0.0143, Accuracy: 9957/10000 (99.57%)\n",
            "\n",
            "epochs 29\n"
          ],
          "name": "stdout"
        },
        {
          "output_type": "stream",
          "text": [
            "Loss=0.009320328943431377 Batch_id=468 Accuracy=99.19: 100%|██████████| 469/469 [00:15<00:00, 29.37it/s]\n"
          ],
          "name": "stderr"
        },
        {
          "output_type": "stream",
          "text": [
            "[0.028295323462426913]\n"
          ],
          "name": "stdout"
        },
        {
          "output_type": "stream",
          "text": [
            "\r  0%|          | 0/469 [00:00<?, ?it/s]"
          ],
          "name": "stderr"
        },
        {
          "output_type": "stream",
          "text": [
            "\n",
            "Test set: Average loss: 0.0149, Accuracy: 9953/10000 (99.53%)\n",
            "\n",
            "epochs 30\n"
          ],
          "name": "stdout"
        },
        {
          "output_type": "stream",
          "text": [
            "Loss=0.05282716825604439 Batch_id=468 Accuracy=99.20: 100%|██████████| 469/469 [00:15<00:00, 30.00it/s]"
          ],
          "name": "stderr"
        },
        {
          "output_type": "stream",
          "text": [
            "[0.023388575212655503]\n"
          ],
          "name": "stdout"
        },
        {
          "output_type": "stream",
          "text": [
            "\n",
            "  0%|          | 0/469 [00:00<?, ?it/s]"
          ],
          "name": "stderr"
        },
        {
          "output_type": "stream",
          "text": [
            "\n",
            "Test set: Average loss: 0.0148, Accuracy: 9954/10000 (99.54%)\n",
            "\n",
            "epochs 31\n"
          ],
          "name": "stdout"
        },
        {
          "output_type": "stream",
          "text": [
            "Loss=0.058029454201459885 Batch_id=468 Accuracy=99.23: 100%|██████████| 469/469 [00:15<00:00, 30.21it/s]"
          ],
          "name": "stderr"
        },
        {
          "output_type": "stream",
          "text": [
            "[0.018816483585009303]\n"
          ],
          "name": "stdout"
        },
        {
          "output_type": "stream",
          "text": [
            "\n",
            "  0%|          | 0/469 [00:00<?, ?it/s]"
          ],
          "name": "stderr"
        },
        {
          "output_type": "stream",
          "text": [
            "\n",
            "Test set: Average loss: 0.0138, Accuracy: 9961/10000 (99.61%)\n",
            "\n",
            "epochs 32\n"
          ],
          "name": "stdout"
        },
        {
          "output_type": "stream",
          "text": [
            "Loss=0.032256241887807846 Batch_id=468 Accuracy=99.24: 100%|██████████| 469/469 [00:15<00:00, 30.07it/s]"
          ],
          "name": "stderr"
        },
        {
          "output_type": "stream",
          "text": [
            "[0.014636545284495312]\n"
          ],
          "name": "stdout"
        },
        {
          "output_type": "stream",
          "text": [
            "\n",
            "  0%|          | 0/469 [00:00<?, ?it/s]"
          ],
          "name": "stderr"
        },
        {
          "output_type": "stream",
          "text": [
            "\n",
            "Test set: Average loss: 0.0140, Accuracy: 9954/10000 (99.54%)\n",
            "\n",
            "epochs 33\n"
          ],
          "name": "stdout"
        },
        {
          "output_type": "stream",
          "text": [
            "Loss=0.0010704994201660156 Batch_id=468 Accuracy=99.30: 100%|██████████| 469/469 [00:15<00:00, 30.25it/s]"
          ],
          "name": "stderr"
        },
        {
          "output_type": "stream",
          "text": [
            "[0.010901325460499198]\n"
          ],
          "name": "stdout"
        },
        {
          "output_type": "stream",
          "text": [
            "\n",
            "  0%|          | 0/469 [00:00<?, ?it/s]"
          ],
          "name": "stderr"
        },
        {
          "output_type": "stream",
          "text": [
            "\n",
            "Test set: Average loss: 0.0133, Accuracy: 9960/10000 (99.60%)\n",
            "\n",
            "epochs 34\n"
          ],
          "name": "stdout"
        },
        {
          "output_type": "stream",
          "text": [
            "Loss=0.005962590221315622 Batch_id=468 Accuracy=99.28: 100%|██████████| 469/469 [00:15<00:00, 29.66it/s]"
          ],
          "name": "stderr"
        },
        {
          "output_type": "stream",
          "text": [
            "[0.007657796669532729]\n"
          ],
          "name": "stdout"
        },
        {
          "output_type": "stream",
          "text": [
            "\n",
            "  0%|          | 0/469 [00:00<?, ?it/s]"
          ],
          "name": "stderr"
        },
        {
          "output_type": "stream",
          "text": [
            "\n",
            "Test set: Average loss: 0.0134, Accuracy: 9957/10000 (99.57%)\n",
            "\n",
            "epochs 35\n"
          ],
          "name": "stdout"
        },
        {
          "output_type": "stream",
          "text": [
            "Loss=0.012454484589397907 Batch_id=468 Accuracy=99.31: 100%|██████████| 469/469 [00:15<00:00, 30.24it/s]"
          ],
          "name": "stderr"
        },
        {
          "output_type": "stream",
          "text": [
            "[0.004946748168081546]\n"
          ],
          "name": "stdout"
        },
        {
          "output_type": "stream",
          "text": [
            "\n",
            "  0%|          | 0/469 [00:00<?, ?it/s]"
          ],
          "name": "stderr"
        },
        {
          "output_type": "stream",
          "text": [
            "\n",
            "Test set: Average loss: 0.0132, Accuracy: 9956/10000 (99.56%)\n",
            "\n",
            "epochs 36\n"
          ],
          "name": "stdout"
        },
        {
          "output_type": "stream",
          "text": [
            "Loss=0.11216547340154648 Batch_id=468 Accuracy=99.36: 100%|██████████| 469/469 [00:15<00:00, 30.19it/s]"
          ],
          "name": "stderr"
        },
        {
          "output_type": "stream",
          "text": [
            "[0.0028022729640383836]\n"
          ],
          "name": "stdout"
        },
        {
          "output_type": "stream",
          "text": [
            "\n",
            "  0%|          | 0/469 [00:00<?, ?it/s]"
          ],
          "name": "stderr"
        },
        {
          "output_type": "stream",
          "text": [
            "\n",
            "Test set: Average loss: 0.0132, Accuracy: 9953/10000 (99.53%)\n",
            "\n",
            "epochs 37\n"
          ],
          "name": "stdout"
        },
        {
          "output_type": "stream",
          "text": [
            "Loss=0.003266741754487157 Batch_id=468 Accuracy=99.36: 100%|██████████| 469/469 [00:15<00:00, 29.86it/s]"
          ],
          "name": "stderr"
        },
        {
          "output_type": "stream",
          "text": [
            "[0.001251339077347576]\n"
          ],
          "name": "stdout"
        },
        {
          "output_type": "stream",
          "text": [
            "\n",
            "  0%|          | 0/469 [00:00<?, ?it/s]"
          ],
          "name": "stderr"
        },
        {
          "output_type": "stream",
          "text": [
            "\n",
            "Test set: Average loss: 0.0126, Accuracy: 9957/10000 (99.57%)\n",
            "\n",
            "epochs 38\n"
          ],
          "name": "stdout"
        },
        {
          "output_type": "stream",
          "text": [
            "Loss=0.04958390071988106 Batch_id=468 Accuracy=99.29: 100%|██████████| 469/469 [00:15<00:00, 29.76it/s]"
          ],
          "name": "stderr"
        },
        {
          "output_type": "stream",
          "text": [
            "[0.00031345040150706035]\n"
          ],
          "name": "stdout"
        },
        {
          "output_type": "stream",
          "text": [
            "\n",
            "  0%|          | 0/469 [00:00<?, ?it/s]"
          ],
          "name": "stderr"
        },
        {
          "output_type": "stream",
          "text": [
            "\n",
            "Test set: Average loss: 0.0126, Accuracy: 9958/10000 (99.58%)\n",
            "\n",
            "epochs 39\n"
          ],
          "name": "stdout"
        },
        {
          "output_type": "stream",
          "text": [
            "Loss=0.011834472417831421 Batch_id=468 Accuracy=99.38: 100%|██████████| 469/469 [00:15<00:00, 29.95it/s]"
          ],
          "name": "stderr"
        },
        {
          "output_type": "stream",
          "text": [
            "[4.0143079121884904e-07]\n"
          ],
          "name": "stdout"
        },
        {
          "output_type": "stream",
          "text": [
            "\n"
          ],
          "name": "stderr"
        },
        {
          "output_type": "stream",
          "text": [
            "\n",
            "Test set: Average loss: 0.0130, Accuracy: 9958/10000 (99.58%)\n",
            "\n"
          ],
          "name": "stdout"
        }
      ]
    },
    {
      "cell_type": "markdown",
      "metadata": {
        "id": "XSKCumLPL0GL",
        "colab_type": "text"
      },
      "source": [
        "**25 Misclassified Images obtained without L1 and L2 regularization in model**"
      ]
    },
    {
      "cell_type": "code",
      "metadata": {
        "id": "kDafCKOiodU9",
        "colab_type": "code",
        "outputId": "d9023d8d-43e7-4688-f283-ab0e7438571b",
        "colab": {
          "base_uri": "https://localhost:8080/",
          "height": 792
        }
      },
      "source": [
        "figure=plt.figure(figsize=(14,14))\n",
        "#displaying 100 images of plot 10,10\n",
        "for i in range(25):\n",
        "  plt.subplot(5,5,i+1)\n",
        "  plt.axis(False)\n",
        "  plt.imshow(images_array[i].cpu().numpy().squeeze(),cmap='gray_r')\n",
        "  s=\"predicted=\"+str(predicted_value[i])+\" actual=\"+str(actual_value[i])\n",
        "  plt.text(1,2,s)"
      ],
      "execution_count": 0,
      "outputs": [
        {
          "output_type": "display_data",
          "data": {
            "image/png": "[encoded data removed]",
            "text/plain": [
              "<Figure size 1008x1008 with 25 Axes>"
            ]
          },
          "metadata": {
            "tags": []
          }
        }
      ]
    },
    {
      "cell_type": "markdown",
      "metadata": {
        "id": "uJXOjX1uMWDb",
        "colab_type": "text"
      },
      "source": [
        "Model training and testing using L2 regularization"
      ]
    },
    {
      "cell_type": "code",
      "metadata": {
        "id": "w41uSSRY0Uen",
        "colab_type": "code",
        "colab": {}
      },
      "source": [
        "#for having cooler graphics we can have tqdm installed\n",
        "from tqdm import tqdm\n",
        "#we are initialising lists to contain loss and accuracy values to plot some graphs\n",
        "test_losses1=[]\n",
        "test_accuracy1=[]\n",
        "images_array1=[]\n",
        "predicted_value1=[]\n",
        "actual_value1=[]\n",
        "count_images=0\n",
        "def train1(model,device,scheduler,train_loader,epoch,optimizer):\n",
        "  #we are calling model.train() so that our model prepares itself in training mode and all other things like batch normalisationa nd dropout behaves accordingly.\n",
        "  model.train()\n",
        "  #so tqdm() just acts on a iterator and it will jsut  gives representations in form of progressbar.\n",
        "  pbar=tqdm(train_loader)\n",
        "  #variables which contain correct values and processed values which helps in finding accuracy and loss\n",
        "  correct=0\n",
        "  processed=0\n",
        "  for batch_idx,(data,target) in enumerate(pbar):\n",
        "    #sending data and target samples to device which is gpu\n",
        "    data,target=data.to(device),target.to(device)\n",
        "    #we are setting our gradients to zero which is very useful\n",
        "    optimizer.zero_grad()\n",
        "    #predicting the output\n",
        "    y_pred=model(data)#print(\"not matching \",\"predicted value is\",predicted[j].item(),\" Actual value is \",target[j].item())\n",
        "    #calculating the loss\n",
        "    loss=F.nll_loss(y_pred,target)\n",
        "    #appending the losses to train_losses array for plotting graph\n",
        "    #updating loss and taking a step by optimizer\n",
        "    loss.backward()\n",
        "    optimizer.step()\n",
        "    #updating tqdm and pbar\n",
        "    #here y_pred will be equal to no of channels in our output\n",
        "    #actually we need that for backpropagation\n",
        "    #now we will find highest value which will be our prediction\n",
        "    #so we will use argmax to fing max value for each image output\n",
        "    #correct will be no of images correctly processes in batch.we will compare pred value to target.if it is equal it will add one value to correct\n",
        "    pred=y_pred.argmax(dim=1,keepdim=True)\n",
        "    processed+=len(data)\n",
        "    #.sum() will count no of trues in prediction for each batch and .item() will convert our tensor output to scalar output\n",
        "    correct+=pred.eq(target.view_as(pred)).sum().item()\n",
        "    #we are appending losses into train_accuracy and we are also appending accuracy at end of each epoch\n",
        "    pbar.set_description(desc=f'Loss={loss.item()} Batch_id={batch_idx} Accuracy={100*correct/processed:0.2f}')\n",
        "    #train_accuracy.append(100*correct/processed)\n",
        "    scheduler.step()\n",
        "  #train_end_epoch.append(train_accuracy[-1])\n",
        "  \n",
        "def test1(model,device,test_loader):\n",
        "  global count_images\n",
        "  loss=0\n",
        "  model.eval()\n",
        "  test_loss=0\n",
        "  correct=0\n",
        "  with torch.no_grad():\n",
        "    for data,target in (test_loader):\n",
        "      data,target=data.to(device),target.to(device)\n",
        "      output=model(data)\n",
        "      test_loss+=F.nll_loss(output,target,reduction='sum').item()\n",
        "      predicted=output.argmax(dim=1,keepdim=True)\n",
        "      #print(len(predicted))\n",
        "      if(count_images<=26):\n",
        "          for j in range(len(predicted)):\n",
        "              if(predicted[j]!=target[j]):\n",
        "                  #print(\"not matching \",\"predicted value is\",predicted[j].item(),\" Actual value is \",target[j].item())\n",
        "                  images_array1.append(data[j])\n",
        "                  predicted_value1.append(predicted[j].item())\n",
        "                  actual_value1.append(target[j].item())\n",
        "                  #figure=plt.figure()\n",
        "                  #plt.imshow(data[j].cpu().squeeze(),cmap='gray_r')\n",
        "                  #plt.show()\n",
        "                  count_images+=1\n",
        "\n",
        "      correct+=predicted.eq(target.view_as(predicted)).sum().item()\n",
        "    \n",
        "    test_loss /= len(test_loader.dataset)\n",
        "    test_losses1.append(test_loss)\n",
        "    \n",
        "    print('\\nTest set: Average loss: {:.4f}, Accuracy: {}/{} ({:.2f}%)\\n'.format(\n",
        "        test_loss, correct, len(test_loader.dataset),\n",
        "        100. * correct / len(test_loader.dataset)))\n",
        "    \n",
        "    test_accuracy1.append(100. * correct / len(test_loader.dataset))\n",
        "    \n"
      ],
      "execution_count": 0,
      "outputs": []
    },
    {
      "cell_type": "code",
      "metadata": {
        "id": "JojvgVjf12DM",
        "colab_type": "code",
        "outputId": "ee2d3a2b-8a48-44b8-8b46-e253ae49852e",
        "colab": {
          "base_uri": "https://localhost:8080/",
          "height": 1000
        }
      },
      "source": [
        "#importing optimizing step lr and cycle lr from torch.optim.lr_scheduler\n",
        "from torch.optim.lr_scheduler import StepLR\n",
        "from torch.optim.lr_scheduler import OneCycleLR\n",
        "device=\"cuda\" if cuda else \"cpu\"\n",
        "model=Net().to(device)\n",
        "optimizer1=optim.SGD(model.parameters(),lr=0.01,momentum=0.9,weight_decay=0.0005)\n",
        "#scheduler=StepLR(optimizer,gamma=0.5,step_size=5)\n",
        "scheduler=OneCycleLR(optimizer1,max_lr=0.1,steps_per_epoch=len(train_loader),epochs=40)\n",
        "EPOCHS=40\n",
        "for epoch in range(EPOCHS):\n",
        "  print('epochs',epoch)\n",
        "  train1(model,device,scheduler,train_loader,epoch,optimizer1) \n",
        "  print(scheduler.get_lr())\n",
        "  test1(model,device,test_loader)\n"
      ],
      "execution_count": 0,
      "outputs": [
        {
          "output_type": "stream",
          "text": [
            "\r  0%|          | 0/469 [00:00<?, ?it/s]"
          ],
          "name": "stderr"
        },
        {
          "output_type": "stream",
          "text": [
            "epochs 0\n"
          ],
          "name": "stdout"
        },
        {
          "output_type": "stream",
          "text": [
            "Loss=0.07634999603033066 Batch_id=468 Accuracy=79.74: 100%|██████████| 469/469 [00:15<00:00, 30.58it/s]"
          ],
          "name": "stderr"
        },
        {
          "output_type": "stream",
          "text": [
            "[0.005636138390090167]\n"
          ],
          "name": "stdout"
        },
        {
          "output_type": "stream",
          "text": [
            "\n",
            "  0%|          | 0/469 [00:00<?, ?it/s]"
          ],
          "name": "stderr"
        },
        {
          "output_type": "stream",
          "text": [
            "\n",
            "Test set: Average loss: 0.1223, Accuracy: 9672/10000 (96.72%)\n",
            "\n",
            "epochs 1\n"
          ],
          "name": "stdout"
        },
        {
          "output_type": "stream",
          "text": [
            "Loss=0.04034760594367981 Batch_id=468 Accuracy=96.93: 100%|██████████| 469/469 [00:15<00:00, 30.54it/s]"
          ],
          "name": "stderr"
        },
        {
          "output_type": "stream",
          "text": [
            "[0.010433014025713727]\n"
          ],
          "name": "stdout"
        },
        {
          "output_type": "stream",
          "text": [
            "\n",
            "  0%|          | 0/469 [00:00<?, ?it/s]"
          ],
          "name": "stderr"
        },
        {
          "output_type": "stream",
          "text": [
            "\n",
            "Test set: Average loss: 0.0540, Accuracy: 9858/10000 (98.58%)\n",
            "\n",
            "epochs 2\n"
          ],
          "name": "stdout"
        },
        {
          "output_type": "stream",
          "text": [
            "Loss=0.11874759942293167 Batch_id=468 Accuracy=97.54: 100%|██████████| 469/469 [00:15<00:00, 30.37it/s]"
          ],
          "name": "stderr"
        },
        {
          "output_type": "stream",
          "text": [
            "[0.018063612224373485]\n"
          ],
          "name": "stdout"
        },
        {
          "output_type": "stream",
          "text": [
            "\n",
            "  0%|          | 0/469 [00:00<?, ?it/s]"
          ],
          "name": "stderr"
        },
        {
          "output_type": "stream",
          "text": [
            "\n",
            "Test set: Average loss: 0.0535, Accuracy: 9851/10000 (98.51%)\n",
            "\n",
            "epochs 3\n"
          ],
          "name": "stdout"
        },
        {
          "output_type": "stream",
          "text": [
            "Loss=0.06576450914144516 Batch_id=468 Accuracy=97.79: 100%|██████████| 469/469 [00:15<00:00, 31.24it/s]"
          ],
          "name": "stderr"
        },
        {
          "output_type": "stream",
          "text": [
            "[0.028007736542228656]\n"
          ],
          "name": "stdout"
        },
        {
          "output_type": "stream",
          "text": [
            "\n",
            "  0%|          | 0/469 [00:00<?, ?it/s]"
          ],
          "name": "stderr"
        },
        {
          "output_type": "stream",
          "text": [
            "\n",
            "Test set: Average loss: 0.0380, Accuracy: 9890/10000 (98.90%)\n",
            "\n",
            "epochs 4\n"
          ],
          "name": "stdout"
        },
        {
          "output_type": "stream",
          "text": [
            "Loss=0.03030504286289215 Batch_id=468 Accuracy=97.92: 100%|██████████| 469/469 [00:15<00:00, 30.81it/s]"
          ],
          "name": "stderr"
        },
        {
          "output_type": "stream",
          "text": [
            "[0.03958747183126786]\n"
          ],
          "name": "stdout"
        },
        {
          "output_type": "stream",
          "text": [
            "\n",
            "  0%|          | 0/469 [00:00<?, ?it/s]"
          ],
          "name": "stderr"
        },
        {
          "output_type": "stream",
          "text": [
            "\n",
            "Test set: Average loss: 0.0410, Accuracy: 9866/10000 (98.66%)\n",
            "\n",
            "epochs 5\n"
          ],
          "name": "stdout"
        },
        {
          "output_type": "stream",
          "text": [
            "Loss=0.01983300782740116 Batch_id=468 Accuracy=97.97: 100%|██████████| 469/469 [00:15<00:00, 30.32it/s]"
          ],
          "name": "stderr"
        },
        {
          "output_type": "stream",
          "text": [
            "[0.05201339936426283]\n"
          ],
          "name": "stdout"
        },
        {
          "output_type": "stream",
          "text": [
            "\n",
            "  0%|          | 0/469 [00:00<?, ?it/s]"
          ],
          "name": "stderr"
        },
        {
          "output_type": "stream",
          "text": [
            "\n",
            "Test set: Average loss: 0.0396, Accuracy: 9866/10000 (98.66%)\n",
            "\n",
            "epochs 6\n"
          ],
          "name": "stdout"
        },
        {
          "output_type": "stream",
          "text": [
            "Loss=0.06825674325227737 Batch_id=468 Accuracy=98.08: 100%|██████████| 469/469 [00:14<00:00, 31.66it/s]"
          ],
          "name": "stderr"
        },
        {
          "output_type": "stream",
          "text": [
            "[0.06443841342999641]\n"
          ],
          "name": "stdout"
        },
        {
          "output_type": "stream",
          "text": [
            "\n",
            "  0%|          | 0/469 [00:00<?, ?it/s]"
          ],
          "name": "stderr"
        },
        {
          "output_type": "stream",
          "text": [
            "\n",
            "Test set: Average loss: 0.0324, Accuracy: 9897/10000 (98.97%)\n",
            "\n",
            "epochs 7\n"
          ],
          "name": "stdout"
        },
        {
          "output_type": "stream",
          "text": [
            "Loss=0.09990521520376205 Batch_id=468 Accuracy=98.15: 100%|██████████| 469/469 [00:15<00:00, 30.29it/s]"
          ],
          "name": "stderr"
        },
        {
          "output_type": "stream",
          "text": [
            "[0.07601547059053707]\n"
          ],
          "name": "stdout"
        },
        {
          "output_type": "stream",
          "text": [
            "\n",
            "  0%|          | 0/469 [00:00<?, ?it/s]"
          ],
          "name": "stderr"
        },
        {
          "output_type": "stream",
          "text": [
            "\n",
            "Test set: Average loss: 0.0289, Accuracy: 9914/10000 (99.14%)\n",
            "\n",
            "epochs 8\n"
          ],
          "name": "stdout"
        },
        {
          "output_type": "stream",
          "text": [
            "Loss=0.1001240536570549 Batch_id=468 Accuracy=98.14: 100%|██████████| 469/469 [00:15<00:00, 36.68it/s]"
          ],
          "name": "stderr"
        },
        {
          "output_type": "stream",
          "text": [
            "[0.08595533469319193]\n"
          ],
          "name": "stdout"
        },
        {
          "output_type": "stream",
          "text": [
            "\n",
            "  0%|          | 0/469 [00:00<?, ?it/s]"
          ],
          "name": "stderr"
        },
        {
          "output_type": "stream",
          "text": [
            "\n",
            "Test set: Average loss: 0.0336, Accuracy: 9886/10000 (98.86%)\n",
            "\n",
            "epochs 9\n"
          ],
          "name": "stdout"
        },
        {
          "output_type": "stream",
          "text": [
            "Loss=0.16568265855312347 Batch_id=468 Accuracy=98.19: 100%|██████████| 469/469 [00:14<00:00, 31.32it/s]"
          ],
          "name": "stderr"
        },
        {
          "output_type": "stream",
          "text": [
            "[0.09358038101918463]\n"
          ],
          "name": "stdout"
        },
        {
          "output_type": "stream",
          "text": [
            "\n",
            "  0%|          | 0/469 [00:00<?, ?it/s]"
          ],
          "name": "stderr"
        },
        {
          "output_type": "stream",
          "text": [
            "\n",
            "Test set: Average loss: 0.0375, Accuracy: 9871/10000 (98.71%)\n",
            "\n",
            "epochs 10\n"
          ],
          "name": "stdout"
        },
        {
          "output_type": "stream",
          "text": [
            "Loss=0.1472439169883728 Batch_id=468 Accuracy=98.28: 100%|██████████| 469/469 [00:15<00:00, 30.61it/s]"
          ],
          "name": "stderr"
        },
        {
          "output_type": "stream",
          "text": [
            "[0.09837079160934131]\n"
          ],
          "name": "stdout"
        },
        {
          "output_type": "stream",
          "text": [
            "\n",
            "  0%|          | 0/469 [00:00<?, ?it/s]"
          ],
          "name": "stderr"
        },
        {
          "output_type": "stream",
          "text": [
            "\n",
            "Test set: Average loss: 0.0346, Accuracy: 9903/10000 (99.03%)\n",
            "\n",
            "epochs 11\n"
          ],
          "name": "stdout"
        },
        {
          "output_type": "stream",
          "text": [
            "Loss=0.10104290395975113 Batch_id=468 Accuracy=98.36: 100%|██████████| 469/469 [00:15<00:00, 31.03it/s]"
          ],
          "name": "stderr"
        },
        {
          "output_type": "stream",
          "text": [
            "[0.09999999856920878]\n"
          ],
          "name": "stdout"
        },
        {
          "output_type": "stream",
          "text": [
            "\n",
            "  0%|          | 0/469 [00:00<?, ?it/s]"
          ],
          "name": "stderr"
        },
        {
          "output_type": "stream",
          "text": [
            "\n",
            "Test set: Average loss: 0.0333, Accuracy: 9896/10000 (98.96%)\n",
            "\n",
            "epochs 12\n"
          ],
          "name": "stdout"
        },
        {
          "output_type": "stream",
          "text": [
            "Loss=0.08740247040987015 Batch_id=468 Accuracy=98.22: 100%|██████████| 469/469 [00:15<00:00, 30.97it/s]\n"
          ],
          "name": "stderr"
        },
        {
          "output_type": "stream",
          "text": [
            "[0.09968427106235794]\n"
          ],
          "name": "stdout"
        },
        {
          "output_type": "stream",
          "text": [
            "\r  0%|          | 0/469 [00:00<?, ?it/s]"
          ],
          "name": "stderr"
        },
        {
          "output_type": "stream",
          "text": [
            "\n",
            "Test set: Average loss: 0.0278, Accuracy: 9915/10000 (99.15%)\n",
            "\n",
            "epochs 13\n"
          ],
          "name": "stdout"
        },
        {
          "output_type": "stream",
          "text": [
            "Loss=0.028843307867646217 Batch_id=468 Accuracy=98.48: 100%|██████████| 469/469 [00:15<00:00, 31.04it/s]"
          ],
          "name": "stderr"
        },
        {
          "output_type": "stream",
          "text": [
            "[0.09874373753452848]\n"
          ],
          "name": "stdout"
        },
        {
          "output_type": "stream",
          "text": [
            "\n",
            "  0%|          | 0/469 [00:00<?, ?it/s]"
          ],
          "name": "stderr"
        },
        {
          "output_type": "stream",
          "text": [
            "\n",
            "Test set: Average loss: 0.0271, Accuracy: 9908/10000 (99.08%)\n",
            "\n",
            "epochs 14\n"
          ],
          "name": "stdout"
        },
        {
          "output_type": "stream",
          "text": [
            "Loss=0.025357654318213463 Batch_id=468 Accuracy=98.32: 100%|██████████| 469/469 [00:15<00:00, 30.41it/s]"
          ],
          "name": "stderr"
        },
        {
          "output_type": "stream",
          "text": [
            "[0.09719022574054306]\n"
          ],
          "name": "stdout"
        },
        {
          "output_type": "stream",
          "text": [
            "\n",
            "  0%|          | 0/469 [00:00<?, ?it/s]"
          ],
          "name": "stderr"
        },
        {
          "output_type": "stream",
          "text": [
            "\n",
            "Test set: Average loss: 0.0345, Accuracy: 9893/10000 (98.93%)\n",
            "\n",
            "epochs 15\n"
          ],
          "name": "stdout"
        },
        {
          "output_type": "stream",
          "text": [
            "Loss=0.10585219413042068 Batch_id=468 Accuracy=98.30: 100%|██████████| 469/469 [00:14<00:00, 32.05it/s]"
          ],
          "name": "stderr"
        },
        {
          "output_type": "stream",
          "text": [
            "[0.09504327199257961]\n"
          ],
          "name": "stdout"
        },
        {
          "output_type": "stream",
          "text": [
            "\n",
            "  0%|          | 0/469 [00:00<?, ?it/s]"
          ],
          "name": "stderr"
        },
        {
          "output_type": "stream",
          "text": [
            "\n",
            "Test set: Average loss: 0.0280, Accuracy: 9908/10000 (99.08%)\n",
            "\n",
            "epochs 16\n"
          ],
          "name": "stdout"
        },
        {
          "output_type": "stream",
          "text": [
            "Loss=0.051820944994688034 Batch_id=468 Accuracy=98.38: 100%|██████████| 469/469 [00:14<00:00, 31.28it/s]"
          ],
          "name": "stderr"
        },
        {
          "output_type": "stream",
          "text": [
            "[0.09232987547971035]\n"
          ],
          "name": "stdout"
        },
        {
          "output_type": "stream",
          "text": [
            "\n",
            "  0%|          | 0/469 [00:00<?, ?it/s]"
          ],
          "name": "stderr"
        },
        {
          "output_type": "stream",
          "text": [
            "\n",
            "Test set: Average loss: 0.0435, Accuracy: 9872/10000 (98.72%)\n",
            "\n",
            "epochs 17\n"
          ],
          "name": "stdout"
        },
        {
          "output_type": "stream",
          "text": [
            "Loss=0.09196416288614273 Batch_id=468 Accuracy=98.31: 100%|██████████| 469/469 [00:14<00:00, 32.71it/s]"
          ],
          "name": "stderr"
        },
        {
          "output_type": "stream",
          "text": [
            "[0.08908415873743396]\n"
          ],
          "name": "stdout"
        },
        {
          "output_type": "stream",
          "text": [
            "\n",
            "  0%|          | 0/469 [00:00<?, ?it/s]"
          ],
          "name": "stderr"
        },
        {
          "output_type": "stream",
          "text": [
            "\n",
            "Test set: Average loss: 0.0307, Accuracy: 9903/10000 (99.03%)\n",
            "\n",
            "epochs 18\n"
          ],
          "name": "stdout"
        },
        {
          "output_type": "stream",
          "text": [
            "Loss=0.02329838275909424 Batch_id=468 Accuracy=98.39: 100%|██████████| 469/469 [00:15<00:00, 31.05it/s]\n"
          ],
          "name": "stderr"
        },
        {
          "output_type": "stream",
          "text": [
            "[0.08534693853699324]\n"
          ],
          "name": "stdout"
        },
        {
          "output_type": "stream",
          "text": [
            "\r  0%|          | 0/469 [00:00<?, ?it/s]"
          ],
          "name": "stderr"
        },
        {
          "output_type": "stream",
          "text": [
            "\n",
            "Test set: Average loss: 0.0331, Accuracy: 9897/10000 (98.97%)\n",
            "\n",
            "epochs 19\n"
          ],
          "name": "stdout"
        },
        {
          "output_type": "stream",
          "text": [
            "Loss=0.028620049357414246 Batch_id=468 Accuracy=98.45: 100%|██████████| 469/469 [00:14<00:00, 32.88it/s]"
          ],
          "name": "stderr"
        },
        {
          "output_type": "stream",
          "text": [
            "[0.08116521259079444]\n"
          ],
          "name": "stdout"
        },
        {
          "output_type": "stream",
          "text": [
            "\n",
            "  0%|          | 0/469 [00:00<?, ?it/s]"
          ],
          "name": "stderr"
        },
        {
          "output_type": "stream",
          "text": [
            "\n",
            "Test set: Average loss: 0.0297, Accuracy: 9905/10000 (99.05%)\n",
            "\n",
            "epochs 20\n"
          ],
          "name": "stdout"
        },
        {
          "output_type": "stream",
          "text": [
            "Loss=0.15768001973628998 Batch_id=468 Accuracy=98.43: 100%|██████████| 469/469 [00:15<00:00, 30.98it/s]\n"
          ],
          "name": "stderr"
        },
        {
          "output_type": "stream",
          "text": [
            "[0.0765915685289049]\n"
          ],
          "name": "stdout"
        },
        {
          "output_type": "stream",
          "text": [
            "\r  0%|          | 0/469 [00:00<?, ?it/s]"
          ],
          "name": "stderr"
        },
        {
          "output_type": "stream",
          "text": [
            "\n",
            "Test set: Average loss: 0.0385, Accuracy: 9878/10000 (98.78%)\n",
            "\n",
            "epochs 21\n"
          ],
          "name": "stdout"
        },
        {
          "output_type": "stream",
          "text": [
            "Loss=0.008409306406974792 Batch_id=468 Accuracy=98.58: 100%|██████████| 469/469 [00:14<00:00, 31.99it/s]\n"
          ],
          "name": "stderr"
        },
        {
          "output_type": "stream",
          "text": [
            "[0.07168352257909298]\n"
          ],
          "name": "stdout"
        },
        {
          "output_type": "stream",
          "text": [
            "\r  0%|          | 0/469 [00:00<?, ?it/s]"
          ],
          "name": "stderr"
        },
        {
          "output_type": "stream",
          "text": [
            "\n",
            "Test set: Average loss: 0.0272, Accuracy: 9916/10000 (99.16%)\n",
            "\n",
            "epochs 22\n"
          ],
          "name": "stdout"
        },
        {
          "output_type": "stream",
          "text": [
            "Loss=0.09479689598083496 Batch_id=468 Accuracy=98.47: 100%|██████████| 469/469 [00:14<00:00, 31.53it/s]"
          ],
          "name": "stderr"
        },
        {
          "output_type": "stream",
          "text": [
            "[0.06650279626689218]\n"
          ],
          "name": "stdout"
        },
        {
          "output_type": "stream",
          "text": [
            "\n",
            "  0%|          | 0/469 [00:00<?, ?it/s]"
          ],
          "name": "stderr"
        },
        {
          "output_type": "stream",
          "text": [
            "\n",
            "Test set: Average loss: 0.0286, Accuracy: 9918/10000 (99.18%)\n",
            "\n",
            "epochs 23\n"
          ],
          "name": "stdout"
        },
        {
          "output_type": "stream",
          "text": [
            "Loss=0.04936257004737854 Batch_id=468 Accuracy=98.53: 100%|██████████| 469/469 [00:15<00:00, 30.66it/s]"
          ],
          "name": "stderr"
        },
        {
          "output_type": "stream",
          "text": [
            "[0.0611145402316058]\n"
          ],
          "name": "stdout"
        },
        {
          "output_type": "stream",
          "text": [
            "\n",
            "  0%|          | 0/469 [00:00<?, ?it/s]"
          ],
          "name": "stderr"
        },
        {
          "output_type": "stream",
          "text": [
            "\n",
            "Test set: Average loss: 0.0415, Accuracy: 9877/10000 (98.77%)\n",
            "\n",
            "epochs 24\n"
          ],
          "name": "stdout"
        },
        {
          "output_type": "stream",
          "text": [
            "Loss=0.06254436075687408 Batch_id=468 Accuracy=98.44: 100%|██████████| 469/469 [00:15<00:00, 31.18it/s]"
          ],
          "name": "stderr"
        },
        {
          "output_type": "stream",
          "text": [
            "[0.055586514919216574]\n"
          ],
          "name": "stdout"
        },
        {
          "output_type": "stream",
          "text": [
            "\n",
            "  0%|          | 0/469 [00:00<?, ?it/s]"
          ],
          "name": "stderr"
        },
        {
          "output_type": "stream",
          "text": [
            "\n",
            "Test set: Average loss: 0.0340, Accuracy: 9895/10000 (98.95%)\n",
            "\n",
            "epochs 25\n"
          ],
          "name": "stdout"
        },
        {
          "output_type": "stream",
          "text": [
            "Loss=0.08667171001434326 Batch_id=468 Accuracy=98.56: 100%|██████████| 469/469 [00:15<00:00, 30.73it/s]"
          ],
          "name": "stderr"
        },
        {
          "output_type": "stream",
          "text": [
            "[0.0499882384554628]\n"
          ],
          "name": "stdout"
        },
        {
          "output_type": "stream",
          "text": [
            "\n",
            "  0%|          | 0/469 [00:00<?, ?it/s]"
          ],
          "name": "stderr"
        },
        {
          "output_type": "stream",
          "text": [
            "\n",
            "Test set: Average loss: 0.0376, Accuracy: 9883/10000 (98.83%)\n",
            "\n",
            "epochs 26\n"
          ],
          "name": "stdout"
        },
        {
          "output_type": "stream",
          "text": [
            "Loss=0.036328334361314774 Batch_id=468 Accuracy=98.47: 100%|██████████| 469/469 [00:14<00:00, 31.41it/s]"
          ],
          "name": "stderr"
        },
        {
          "output_type": "stream",
          "text": [
            "[0.04439011241507181]\n"
          ],
          "name": "stdout"
        },
        {
          "output_type": "stream",
          "text": [
            "\n",
            "  0%|          | 0/469 [00:00<?, ?it/s]"
          ],
          "name": "stderr"
        },
        {
          "output_type": "stream",
          "text": [
            "\n",
            "Test set: Average loss: 0.0270, Accuracy: 9921/10000 (99.21%)\n",
            "\n",
            "epochs 27\n"
          ],
          "name": "stdout"
        },
        {
          "output_type": "stream",
          "text": [
            "Loss=0.06009532883763313 Batch_id=468 Accuracy=98.61: 100%|██████████| 469/469 [00:15<00:00, 37.66it/s]"
          ],
          "name": "stderr"
        },
        {
          "output_type": "stream",
          "text": [
            "[0.03886253648110994]\n"
          ],
          "name": "stdout"
        },
        {
          "output_type": "stream",
          "text": [
            "\n",
            "  0%|          | 0/469 [00:00<?, ?it/s]"
          ],
          "name": "stderr"
        },
        {
          "output_type": "stream",
          "text": [
            "\n",
            "Test set: Average loss: 0.0225, Accuracy: 9926/10000 (99.26%)\n",
            "\n",
            "epochs 28\n"
          ],
          "name": "stdout"
        },
        {
          "output_type": "stream",
          "text": [
            "Loss=0.05269867181777954 Batch_id=468 Accuracy=98.66: 100%|██████████| 469/469 [00:15<00:00, 30.75it/s]"
          ],
          "name": "stderr"
        },
        {
          "output_type": "stream",
          "text": [
            "[0.03347502312812102]\n"
          ],
          "name": "stdout"
        },
        {
          "output_type": "stream",
          "text": [
            "\n",
            "  0%|          | 0/469 [00:00<?, ?it/s]"
          ],
          "name": "stderr"
        },
        {
          "output_type": "stream",
          "text": [
            "\n",
            "Test set: Average loss: 0.0248, Accuracy: 9926/10000 (99.26%)\n",
            "\n",
            "epochs 29\n"
          ],
          "name": "stdout"
        },
        {
          "output_type": "stream",
          "text": [
            "Loss=0.031204378232359886 Batch_id=468 Accuracy=98.65: 100%|██████████| 469/469 [00:15<00:00, 30.85it/s]"
          ],
          "name": "stderr"
        },
        {
          "output_type": "stream",
          "text": [
            "[0.028295323462426913]\n"
          ],
          "name": "stdout"
        },
        {
          "output_type": "stream",
          "text": [
            "\n",
            "  0%|          | 0/469 [00:00<?, ?it/s]"
          ],
          "name": "stderr"
        },
        {
          "output_type": "stream",
          "text": [
            "\n",
            "Test set: Average loss: 0.0245, Accuracy: 9921/10000 (99.21%)\n",
            "\n",
            "epochs 30\n"
          ],
          "name": "stdout"
        },
        {
          "output_type": "stream",
          "text": [
            "Loss=0.06848534196615219 Batch_id=468 Accuracy=98.76: 100%|██████████| 469/469 [00:15<00:00, 30.92it/s]"
          ],
          "name": "stderr"
        },
        {
          "output_type": "stream",
          "text": [
            "[0.023388575212655503]\n"
          ],
          "name": "stdout"
        },
        {
          "output_type": "stream",
          "text": [
            "\n",
            "  0%|          | 0/469 [00:00<?, ?it/s]"
          ],
          "name": "stderr"
        },
        {
          "output_type": "stream",
          "text": [
            "\n",
            "Test set: Average loss: 0.0182, Accuracy: 9947/10000 (99.47%)\n",
            "\n",
            "epochs 31\n"
          ],
          "name": "stdout"
        },
        {
          "output_type": "stream",
          "text": [
            "Loss=0.0611935593187809 Batch_id=468 Accuracy=98.83: 100%|██████████| 469/469 [00:15<00:00, 30.92it/s]\n"
          ],
          "name": "stderr"
        },
        {
          "output_type": "stream",
          "text": [
            "[0.018816483585009303]\n"
          ],
          "name": "stdout"
        },
        {
          "output_type": "stream",
          "text": [
            "\r  0%|          | 0/469 [00:00<?, ?it/s]"
          ],
          "name": "stderr"
        },
        {
          "output_type": "stream",
          "text": [
            "\n",
            "Test set: Average loss: 0.0227, Accuracy: 9935/10000 (99.35%)\n",
            "\n",
            "epochs 32\n"
          ],
          "name": "stdout"
        },
        {
          "output_type": "stream",
          "text": [
            "Loss=0.0396924763917923 Batch_id=468 Accuracy=98.86: 100%|██████████| 469/469 [00:15<00:00, 30.82it/s]"
          ],
          "name": "stderr"
        },
        {
          "output_type": "stream",
          "text": [
            "[0.014636545284495312]\n"
          ],
          "name": "stdout"
        },
        {
          "output_type": "stream",
          "text": [
            "\n",
            "  0%|          | 0/469 [00:00<?, ?it/s]"
          ],
          "name": "stderr"
        },
        {
          "output_type": "stream",
          "text": [
            "\n",
            "Test set: Average loss: 0.0196, Accuracy: 9937/10000 (99.37%)\n",
            "\n",
            "epochs 33\n"
          ],
          "name": "stdout"
        },
        {
          "output_type": "stream",
          "text": [
            "Loss=0.04022175446152687 Batch_id=468 Accuracy=98.93: 100%|██████████| 469/469 [00:14<00:00, 31.40it/s]\n"
          ],
          "name": "stderr"
        },
        {
          "output_type": "stream",
          "text": [
            "[0.010901325460499198]\n"
          ],
          "name": "stdout"
        },
        {
          "output_type": "stream",
          "text": [
            "\r  0%|          | 0/469 [00:00<?, ?it/s]"
          ],
          "name": "stderr"
        },
        {
          "output_type": "stream",
          "text": [
            "\n",
            "Test set: Average loss: 0.0174, Accuracy: 9948/10000 (99.48%)\n",
            "\n",
            "epochs 34\n"
          ],
          "name": "stdout"
        },
        {
          "output_type": "stream",
          "text": [
            "Loss=0.024909330531954765 Batch_id=468 Accuracy=99.06: 100%|██████████| 469/469 [00:15<00:00, 30.31it/s]\n"
          ],
          "name": "stderr"
        },
        {
          "output_type": "stream",
          "text": [
            "[0.007657796669532729]\n"
          ],
          "name": "stdout"
        },
        {
          "output_type": "stream",
          "text": [
            "\r  0%|          | 0/469 [00:00<?, ?it/s]"
          ],
          "name": "stderr"
        },
        {
          "output_type": "stream",
          "text": [
            "\n",
            "Test set: Average loss: 0.0173, Accuracy: 9950/10000 (99.50%)\n",
            "\n",
            "epochs 35\n"
          ],
          "name": "stdout"
        },
        {
          "output_type": "stream",
          "text": [
            "Loss=0.04177125170826912 Batch_id=468 Accuracy=99.08: 100%|██████████| 469/469 [00:15<00:00, 30.60it/s]"
          ],
          "name": "stderr"
        },
        {
          "output_type": "stream",
          "text": [
            "[0.004946748168081546]\n"
          ],
          "name": "stdout"
        },
        {
          "output_type": "stream",
          "text": [
            "\n",
            "  0%|          | 0/469 [00:00<?, ?it/s]"
          ],
          "name": "stderr"
        },
        {
          "output_type": "stream",
          "text": [
            "\n",
            "Test set: Average loss: 0.0173, Accuracy: 9945/10000 (99.45%)\n",
            "\n",
            "epochs 36\n"
          ],
          "name": "stdout"
        },
        {
          "output_type": "stream",
          "text": [
            "Loss=0.017896374687552452 Batch_id=468 Accuracy=99.14: 100%|██████████| 469/469 [00:15<00:00, 30.77it/s]\n"
          ],
          "name": "stderr"
        },
        {
          "output_type": "stream",
          "text": [
            "[0.0028022729640383836]\n"
          ],
          "name": "stdout"
        },
        {
          "output_type": "stream",
          "text": [
            "\r  0%|          | 0/469 [00:00<?, ?it/s]"
          ],
          "name": "stderr"
        },
        {
          "output_type": "stream",
          "text": [
            "\n",
            "Test set: Average loss: 0.0163, Accuracy: 9949/10000 (99.49%)\n",
            "\n",
            "epochs 37\n"
          ],
          "name": "stdout"
        },
        {
          "output_type": "stream",
          "text": [
            "Loss=0.006159260869026184 Batch_id=468 Accuracy=99.20: 100%|██████████| 469/469 [00:14<00:00, 31.40it/s]"
          ],
          "name": "stderr"
        },
        {
          "output_type": "stream",
          "text": [
            "[0.001251339077347576]\n"
          ],
          "name": "stdout"
        },
        {
          "output_type": "stream",
          "text": [
            "\n",
            "  0%|          | 0/469 [00:00<?, ?it/s]"
          ],
          "name": "stderr"
        },
        {
          "output_type": "stream",
          "text": [
            "\n",
            "Test set: Average loss: 0.0153, Accuracy: 9958/10000 (99.58%)\n",
            "\n",
            "epochs 38\n"
          ],
          "name": "stdout"
        },
        {
          "output_type": "stream",
          "text": [
            "Loss=0.016198575496673584 Batch_id=468 Accuracy=99.21: 100%|██████████| 469/469 [00:15<00:00, 30.84it/s]\n"
          ],
          "name": "stderr"
        },
        {
          "output_type": "stream",
          "text": [
            "[0.00031345040150706035]\n"
          ],
          "name": "stdout"
        },
        {
          "output_type": "stream",
          "text": [
            "\r  0%|          | 0/469 [00:00<?, ?it/s]"
          ],
          "name": "stderr"
        },
        {
          "output_type": "stream",
          "text": [
            "\n",
            "Test set: Average loss: 0.0157, Accuracy: 9946/10000 (99.46%)\n",
            "\n",
            "epochs 39\n"
          ],
          "name": "stdout"
        },
        {
          "output_type": "stream",
          "text": [
            "Loss=0.04171761870384216 Batch_id=468 Accuracy=99.25: 100%|██████████| 469/469 [00:15<00:00, 30.57it/s]\n"
          ],
          "name": "stderr"
        },
        {
          "output_type": "stream",
          "text": [
            "[4.0143079121884904e-07]\n",
            "\n",
            "Test set: Average loss: 0.0149, Accuracy: 9952/10000 (99.52%)\n",
            "\n"
          ],
          "name": "stdout"
        }
      ]
    },
    {
      "cell_type": "markdown",
      "metadata": {
        "id": "Ewo-M_fVN0Rj",
        "colab_type": "text"
      },
      "source": [
        "25 Misclassified images in using  L2 regularization in the model"
      ]
    },
    {
      "cell_type": "code",
      "metadata": {
        "id": "TfoOR1HYOHo8",
        "colab_type": "code",
        "outputId": "dd3a6c77-9639-4c43-c6f4-8394936c4737",
        "colab": {
          "base_uri": "https://localhost:8080/",
          "height": 792
        }
      },
      "source": [
        "figure=plt.figure(figsize=(14,14))\n",
        "#displaying 100 images of plot 10,10\n",
        "for i in range(25):\n",
        "  plt.subplot(5,5,i+1)\n",
        "  plt.axis(False)\n",
        "  plt.imshow(images_array1[i].cpu().numpy().squeeze(),cmap='gray_r')\n",
        "  s=\"predicted=\"+str(predicted_value1[i])+\" actual=\"+str(actual_value1[i])\n",
        "  plt.text(1,2,s)"
      ],
      "execution_count": 0,
      "outputs": [
        {
          "output_type": "display_data",
          "data": {
            "image/png": "[encoded data removed]",
            "text/plain": [
              "<Figure size 1008x1008 with 25 Axes>"
            ]
          },
          "metadata": {
            "tags": []
          }
        }
      ]
    },
    {
      "cell_type": "markdown",
      "metadata": {
        "id": "oNx2-pVhOxoL",
        "colab_type": "text"
      },
      "source": [
        "**Model and Training using L1 regularization**"
      ]
    },
    {
      "cell_type": "code",
      "metadata": {
        "id": "JjFoRACjOt57",
        "colab_type": "code",
        "colab": {}
      },
      "source": [
        "#for having cooler graphics we can have tqdm installed\n",
        "from tqdm import tqdm\n",
        "#we are initialising lists to contain loss and accuracy values to plot some graphs\n",
        "test_losses2=[]\n",
        "test_accuracy2=[]\n",
        "images_array2=[]\n",
        "predicted_value2=[]\n",
        "actual_value2=[]\n",
        "count_images=0\n",
        "def train2(model,device,scheduler,train_loader,epoch,optimizer):\n",
        "  #we are calling model.train() so that our model prepares itself in training mode and all other things like batch normalisationa nd dropout behaves accordingly.\n",
        "  model.train()\n",
        "  #so tqdm() just acts on a iterator and it will jsut  gives representations in form of progressbar.\n",
        "  pbar=tqdm(train_loader)\n",
        "  #variables which contain correct values and processed values which helps in finding accuracy and loss\n",
        "  correct=0\n",
        "  processed=0\n",
        "  for batch_idx,(data,target) in enumerate(pbar):\n",
        "    #sending data and target samples to device which is gpu\n",
        "    data,target=data.to(device),target.to(device)\n",
        "    #we are setting our gradients to zero which is very useful\n",
        "    optimizer.zero_grad()\n",
        "    #predicting the output\n",
        "    y_pred=model(data)#print(\"not matching \",\"predicted value is\",predicted[j].item(),\" Actual value is \",target[j].item())\n",
        "    #calculating the loss\n",
        "    loss=F.nll_loss(y_pred,target)\n",
        "    #l1_crit = nn.L1Loss(size_average=False)\n",
        "    reg_loss = 0 \n",
        "    for param in model.parameters(): \n",
        "        reg_loss += torch.sum(param.abs())\n",
        "\n",
        "    factor = 0.0005 \n",
        "    loss += factor * reg_loss\n",
        "    #appending the losses to train_losses array for plotting graph\n",
        "    #updating loss and taking a step by optimizer\n",
        "    loss.backward()\n",
        "    optimizer.step()\n",
        "    #updating tqdm and pbar\n",
        "    #here y_pred will be equal to no of channels in our output\n",
        "    #actually we need that for backpropagation\n",
        "    #now we will find highest value which will be our prediction\n",
        "    #so we will use argmax to fing max value for each image output\n",
        "    #correct will be no of images correctly processes in batch.we will compare pred value to target.if it is equal it will add one value to correct\n",
        "    pred=y_pred.argmax(dim=1,keepdim=True)\n",
        "    processed+=len(data)\n",
        "    #.sum() will count no of trues in prediction for each batch and .item() will convert our tensor output to scalar output\n",
        "    correct+=pred.eq(target.view_as(pred)).sum().item()\n",
        "    #we are appending losses into train_accuracy and we are also appending accuracy at end of each epoch\n",
        "    pbar.set_description(desc=f'Loss={loss.item()} Batch_id={batch_idx} Accuracy={100*correct/processed:0.2f}')\n",
        "    #train_accuracy.append(100*correct/processed)\n",
        "    scheduler.step()\n",
        "  #train_end_epoch.append(train_accuracy[-1])\n",
        "  \n",
        "def test2(model,device,test_loader):\n",
        "  global count_images\n",
        "  loss=0\n",
        "  model.eval()\n",
        "  test_loss=0\n",
        "  correct=0\n",
        "  with torch.no_grad():\n",
        "    for data,target in (test_loader):\n",
        "      data,target=data.to(device),target.to(device)\n",
        "      output=model(data)\n",
        "      test_loss+=F.nll_loss(output,target,reduction='sum').item()\n",
        "      predicted=output.argmax(dim=1,keepdim=True)\n",
        "      #print(len(predicted))\n",
        "      if(count_images<=26):\n",
        "          for j in range(len(predicted)):\n",
        "              if(predicted[j]!=target[j]):\n",
        "                  #print(\"not matching \",\"predicted value is\",predicted[j].item(),\" Actual value is \",target[j].item())\n",
        "                  images_array2.append(data[j])\n",
        "                  predicted_value2.append(predicted[j].item())\n",
        "                  actual_value2.append(target[j].item())\n",
        "                  #figure=plt.figure()\n",
        "                  #plt.imshow(data[j].cpu().squeeze(),cmap='gray_r')\n",
        "                  #plt.show()\n",
        "                  count_images+=1\n",
        "\n",
        "      correct+=predicted.eq(target.view_as(predicted)).sum().item()\n",
        "    \n",
        "    test_loss /= len(test_loader.dataset)\n",
        "    test_losses2.append(test_loss)\n",
        "    \n",
        "    print('\\nTest set: Average loss: {:.4f}, Accuracy: {}/{} ({:.2f}%)\\n'.format(\n",
        "        test_loss, correct, len(test_loader.dataset),\n",
        "        100. * correct / len(test_loader.dataset)))\n",
        "    \n",
        "    test_accuracy2.append(100. * correct / len(test_loader.dataset))\n",
        "    \n"
      ],
      "execution_count": 0,
      "outputs": []
    },
    {
      "cell_type": "code",
      "metadata": {
        "id": "rcuFY2OMO7ri",
        "colab_type": "code",
        "outputId": "3b00f8b1-bb70-4000-82b1-76525e1c20bc",
        "colab": {
          "base_uri": "https://localhost:8080/",
          "height": 1000
        }
      },
      "source": [
        "#importing optimizing step lr and cycle lr from torch.optim.lr_scheduler\n",
        "from torch.optim.lr_scheduler import StepLR\n",
        "from torch.optim.lr_scheduler import OneCycleLR\n",
        "device=\"cuda\" if cuda else \"cpu\"\n",
        "model=Net().to(device)\n",
        "optimizer=optim.SGD(model.parameters(),lr=0.01,momentum=0.9)\n",
        "#scheduler=StepLR(optimizer,gamma=0.5,step_size=5)\n",
        "scheduler=OneCycleLR(optimizer,max_lr=0.1,steps_per_epoch=len(train_loader),epochs=40)\n",
        "EPOCHS=40\n",
        "for epoch in range(EPOCHS):\n",
        "  print('epochs',epoch)\n",
        "  train2(model,device,scheduler,train_loader,epoch,optimizer) \n",
        "  print(scheduler.get_lr())\n",
        "  test2(model,device,test_loader)\n"
      ],
      "execution_count": 0,
      "outputs": [
        {
          "output_type": "stream",
          "text": [
            "\r  0%|          | 0/469 [00:00<?, ?it/s]"
          ],
          "name": "stderr"
        },
        {
          "output_type": "stream",
          "text": [
            "epochs 0\n"
          ],
          "name": "stdout"
        },
        {
          "output_type": "stream",
          "text": [
            "Loss=0.3527582883834839 Batch_id=468 Accuracy=78.29: 100%|██████████| 469/469 [00:16<00:00, 29.24it/s]"
          ],
          "name": "stderr"
        },
        {
          "output_type": "stream",
          "text": [
            "[0.005636138390090167]\n"
          ],
          "name": "stdout"
        },
        {
          "output_type": "stream",
          "text": [
            "\n",
            "  0%|          | 0/469 [00:00<?, ?it/s]"
          ],
          "name": "stderr"
        },
        {
          "output_type": "stream",
          "text": [
            "\n",
            "Test set: Average loss: 0.0987, Accuracy: 9757/10000 (97.57%)\n",
            "\n",
            "epochs 1\n"
          ],
          "name": "stdout"
        },
        {
          "output_type": "stream",
          "text": [
            "Loss=0.2975200414657593 Batch_id=468 Accuracy=96.61: 100%|██████████| 469/469 [00:16<00:00, 28.57it/s]"
          ],
          "name": "stderr"
        },
        {
          "output_type": "stream",
          "text": [
            "[0.010433014025713727]\n"
          ],
          "name": "stdout"
        },
        {
          "output_type": "stream",
          "text": [
            "\n",
            "  0%|          | 0/469 [00:00<?, ?it/s]"
          ],
          "name": "stderr"
        },
        {
          "output_type": "stream",
          "text": [
            "\n",
            "Test set: Average loss: 0.0550, Accuracy: 9850/10000 (98.50%)\n",
            "\n",
            "epochs 2\n"
          ],
          "name": "stdout"
        },
        {
          "output_type": "stream",
          "text": [
            "Loss=0.2810453176498413 Batch_id=468 Accuracy=97.12: 100%|██████████| 469/469 [00:16<00:00, 28.21it/s]"
          ],
          "name": "stderr"
        },
        {
          "output_type": "stream",
          "text": [
            "[0.018063612224373485]\n"
          ],
          "name": "stdout"
        },
        {
          "output_type": "stream",
          "text": [
            "\n",
            "  0%|          | 0/469 [00:00<?, ?it/s]"
          ],
          "name": "stderr"
        },
        {
          "output_type": "stream",
          "text": [
            "\n",
            "Test set: Average loss: 0.0666, Accuracy: 9795/10000 (97.95%)\n",
            "\n",
            "epochs 3\n"
          ],
          "name": "stdout"
        },
        {
          "output_type": "stream",
          "text": [
            "Loss=0.2927303910255432 Batch_id=468 Accuracy=96.96: 100%|██████████| 469/469 [00:16<00:00, 28.64it/s]"
          ],
          "name": "stderr"
        },
        {
          "output_type": "stream",
          "text": [
            "[0.028007736542228656]\n"
          ],
          "name": "stdout"
        },
        {
          "output_type": "stream",
          "text": [
            "\n",
            "  0%|          | 0/469 [00:00<?, ?it/s]"
          ],
          "name": "stderr"
        },
        {
          "output_type": "stream",
          "text": [
            "\n",
            "Test set: Average loss: 0.0537, Accuracy: 9835/10000 (98.35%)\n",
            "\n",
            "epochs 4\n"
          ],
          "name": "stdout"
        },
        {
          "output_type": "stream",
          "text": [
            "Loss=0.4481809139251709 Batch_id=468 Accuracy=97.05: 100%|██████████| 469/469 [00:15<00:00, 29.49it/s]"
          ],
          "name": "stderr"
        },
        {
          "output_type": "stream",
          "text": [
            "[0.03958747183126786]\n"
          ],
          "name": "stdout"
        },
        {
          "output_type": "stream",
          "text": [
            "\n",
            "  0%|          | 0/469 [00:00<?, ?it/s]"
          ],
          "name": "stderr"
        },
        {
          "output_type": "stream",
          "text": [
            "\n",
            "Test set: Average loss: 0.0604, Accuracy: 9820/10000 (98.20%)\n",
            "\n",
            "epochs 5\n"
          ],
          "name": "stdout"
        },
        {
          "output_type": "stream",
          "text": [
            "Loss=0.3509039282798767 Batch_id=468 Accuracy=96.94: 100%|██████████| 469/469 [00:16<00:00, 28.68it/s]"
          ],
          "name": "stderr"
        },
        {
          "output_type": "stream",
          "text": [
            "[0.05201339936426283]\n"
          ],
          "name": "stdout"
        },
        {
          "output_type": "stream",
          "text": [
            "\n",
            "  0%|          | 0/469 [00:00<?, ?it/s]"
          ],
          "name": "stderr"
        },
        {
          "output_type": "stream",
          "text": [
            "\n",
            "Test set: Average loss: 0.0659, Accuracy: 9803/10000 (98.03%)\n",
            "\n",
            "epochs 6\n"
          ],
          "name": "stdout"
        },
        {
          "output_type": "stream",
          "text": [
            "Loss=0.26323020458221436 Batch_id=468 Accuracy=96.92: 100%|██████████| 469/469 [00:15<00:00, 29.84it/s]"
          ],
          "name": "stderr"
        },
        {
          "output_type": "stream",
          "text": [
            "[0.06443841342999641]\n"
          ],
          "name": "stdout"
        },
        {
          "output_type": "stream",
          "text": [
            "\n",
            "  0%|          | 0/469 [00:00<?, ?it/s]"
          ],
          "name": "stderr"
        },
        {
          "output_type": "stream",
          "text": [
            "\n",
            "Test set: Average loss: 0.0636, Accuracy: 9800/10000 (98.00%)\n",
            "\n",
            "epochs 7\n"
          ],
          "name": "stdout"
        },
        {
          "output_type": "stream",
          "text": [
            "Loss=0.2448170930147171 Batch_id=468 Accuracy=96.96: 100%|██████████| 469/469 [00:15<00:00, 29.57it/s]"
          ],
          "name": "stderr"
        },
        {
          "output_type": "stream",
          "text": [
            "[0.07601547059053707]\n"
          ],
          "name": "stdout"
        },
        {
          "output_type": "stream",
          "text": [
            "\n",
            "  0%|          | 0/469 [00:00<?, ?it/s]"
          ],
          "name": "stderr"
        },
        {
          "output_type": "stream",
          "text": [
            "\n",
            "Test set: Average loss: 0.0639, Accuracy: 9812/10000 (98.12%)\n",
            "\n",
            "epochs 8\n"
          ],
          "name": "stdout"
        },
        {
          "output_type": "stream",
          "text": [
            "Loss=0.2650775611400604 Batch_id=468 Accuracy=96.78: 100%|██████████| 469/469 [00:16<00:00, 28.97it/s]"
          ],
          "name": "stderr"
        },
        {
          "output_type": "stream",
          "text": [
            "[0.08595533469319193]\n"
          ],
          "name": "stdout"
        },
        {
          "output_type": "stream",
          "text": [
            "\n",
            "  0%|          | 0/469 [00:00<?, ?it/s]"
          ],
          "name": "stderr"
        },
        {
          "output_type": "stream",
          "text": [
            "\n",
            "Test set: Average loss: 0.0664, Accuracy: 9799/10000 (97.99%)\n",
            "\n",
            "epochs 9\n"
          ],
          "name": "stdout"
        },
        {
          "output_type": "stream",
          "text": [
            "Loss=0.29967668652534485 Batch_id=468 Accuracy=96.86: 100%|██████████| 469/469 [00:15<00:00, 29.80it/s]"
          ],
          "name": "stderr"
        },
        {
          "output_type": "stream",
          "text": [
            "[0.09358038101918463]\n"
          ],
          "name": "stdout"
        },
        {
          "output_type": "stream",
          "text": [
            "\n",
            "  0%|          | 0/469 [00:00<?, ?it/s]"
          ],
          "name": "stderr"
        },
        {
          "output_type": "stream",
          "text": [
            "\n",
            "Test set: Average loss: 0.0693, Accuracy: 9794/10000 (97.94%)\n",
            "\n",
            "epochs 10\n"
          ],
          "name": "stdout"
        },
        {
          "output_type": "stream",
          "text": [
            "Loss=0.3077809512615204 Batch_id=468 Accuracy=96.86: 100%|██████████| 469/469 [00:16<00:00, 28.44it/s]\n"
          ],
          "name": "stderr"
        },
        {
          "output_type": "stream",
          "text": [
            "[0.09837079160934131]\n"
          ],
          "name": "stdout"
        },
        {
          "output_type": "stream",
          "text": [
            "\r  0%|          | 0/469 [00:00<?, ?it/s]"
          ],
          "name": "stderr"
        },
        {
          "output_type": "stream",
          "text": [
            "\n",
            "Test set: Average loss: 0.1023, Accuracy: 9692/10000 (96.92%)\n",
            "\n",
            "epochs 11\n"
          ],
          "name": "stdout"
        },
        {
          "output_type": "stream",
          "text": [
            "Loss=0.28218188881874084 Batch_id=468 Accuracy=96.85: 100%|██████████| 469/469 [00:15<00:00, 29.53it/s]"
          ],
          "name": "stderr"
        },
        {
          "output_type": "stream",
          "text": [
            "[0.09999999856920878]\n"
          ],
          "name": "stdout"
        },
        {
          "output_type": "stream",
          "text": [
            "\n",
            "  0%|          | 0/469 [00:00<?, ?it/s]"
          ],
          "name": "stderr"
        },
        {
          "output_type": "stream",
          "text": [
            "\n",
            "Test set: Average loss: 0.0696, Accuracy: 9783/10000 (97.83%)\n",
            "\n",
            "epochs 12\n"
          ],
          "name": "stdout"
        },
        {
          "output_type": "stream",
          "text": [
            "Loss=0.383819043636322 Batch_id=468 Accuracy=96.90: 100%|██████████| 469/469 [00:16<00:00, 28.53it/s]"
          ],
          "name": "stderr"
        },
        {
          "output_type": "stream",
          "text": [
            "[0.09968427106235794]\n"
          ],
          "name": "stdout"
        },
        {
          "output_type": "stream",
          "text": [
            "\n",
            "  0%|          | 0/469 [00:00<?, ?it/s]"
          ],
          "name": "stderr"
        },
        {
          "output_type": "stream",
          "text": [
            "\n",
            "Test set: Average loss: 0.1424, Accuracy: 9574/10000 (95.74%)\n",
            "\n",
            "epochs 13\n"
          ],
          "name": "stdout"
        },
        {
          "output_type": "stream",
          "text": [
            "Loss=0.22665902972221375 Batch_id=468 Accuracy=97.00: 100%|██████████| 469/469 [00:16<00:00, 35.55it/s]"
          ],
          "name": "stderr"
        },
        {
          "output_type": "stream",
          "text": [
            "[0.09874373753452848]\n"
          ],
          "name": "stdout"
        },
        {
          "output_type": "stream",
          "text": [
            "\n",
            "  0%|          | 0/469 [00:00<?, ?it/s]"
          ],
          "name": "stderr"
        },
        {
          "output_type": "stream",
          "text": [
            "\n",
            "Test set: Average loss: 0.0903, Accuracy: 9714/10000 (97.14%)\n",
            "\n",
            "epochs 14\n"
          ],
          "name": "stdout"
        },
        {
          "output_type": "stream",
          "text": [
            "Loss=0.24725687503814697 Batch_id=468 Accuracy=96.94: 100%|██████████| 469/469 [00:16<00:00, 29.24it/s]"
          ],
          "name": "stderr"
        },
        {
          "output_type": "stream",
          "text": [
            "[0.09719022574054306]\n"
          ],
          "name": "stdout"
        },
        {
          "output_type": "stream",
          "text": [
            "\n",
            "  0%|          | 0/469 [00:00<?, ?it/s]"
          ],
          "name": "stderr"
        },
        {
          "output_type": "stream",
          "text": [
            "\n",
            "Test set: Average loss: 0.0507, Accuracy: 9859/10000 (98.59%)\n",
            "\n",
            "epochs 15\n"
          ],
          "name": "stdout"
        },
        {
          "output_type": "stream",
          "text": [
            "Loss=0.24443921446800232 Batch_id=468 Accuracy=96.90: 100%|██████████| 469/469 [00:16<00:00, 28.37it/s]"
          ],
          "name": "stderr"
        },
        {
          "output_type": "stream",
          "text": [
            "[0.09504327199257961]\n"
          ],
          "name": "stdout"
        },
        {
          "output_type": "stream",
          "text": [
            "\n",
            "  0%|          | 0/469 [00:00<?, ?it/s]"
          ],
          "name": "stderr"
        },
        {
          "output_type": "stream",
          "text": [
            "\n",
            "Test set: Average loss: 0.0681, Accuracy: 9793/10000 (97.93%)\n",
            "\n",
            "epochs 16\n"
          ],
          "name": "stdout"
        },
        {
          "output_type": "stream",
          "text": [
            "Loss=0.2551550269126892 Batch_id=468 Accuracy=96.97: 100%|██████████| 469/469 [00:16<00:00, 29.20it/s]"
          ],
          "name": "stderr"
        },
        {
          "output_type": "stream",
          "text": [
            "[0.09232987547971035]\n"
          ],
          "name": "stdout"
        },
        {
          "output_type": "stream",
          "text": [
            "\n",
            "  0%|          | 0/469 [00:00<?, ?it/s]"
          ],
          "name": "stderr"
        },
        {
          "output_type": "stream",
          "text": [
            "\n",
            "Test set: Average loss: 0.0590, Accuracy: 9835/10000 (98.35%)\n",
            "\n",
            "epochs 17\n"
          ],
          "name": "stdout"
        },
        {
          "output_type": "stream",
          "text": [
            "Loss=0.3554665744304657 Batch_id=468 Accuracy=96.99: 100%|██████████| 469/469 [00:16<00:00, 28.93it/s]"
          ],
          "name": "stderr"
        },
        {
          "output_type": "stream",
          "text": [
            "[0.08908415873743396]\n"
          ],
          "name": "stdout"
        },
        {
          "output_type": "stream",
          "text": [
            "\n",
            "  0%|          | 0/469 [00:00<?, ?it/s]"
          ],
          "name": "stderr"
        },
        {
          "output_type": "stream",
          "text": [
            "\n",
            "Test set: Average loss: 0.0731, Accuracy: 9760/10000 (97.60%)\n",
            "\n",
            "epochs 18\n"
          ],
          "name": "stdout"
        },
        {
          "output_type": "stream",
          "text": [
            "Loss=0.2801683247089386 Batch_id=468 Accuracy=96.94: 100%|██████████| 469/469 [00:16<00:00, 29.19it/s]"
          ],
          "name": "stderr"
        },
        {
          "output_type": "stream",
          "text": [
            "[0.08534693853699324]\n"
          ],
          "name": "stdout"
        },
        {
          "output_type": "stream",
          "text": [
            "\n",
            "  0%|          | 0/469 [00:00<?, ?it/s]"
          ],
          "name": "stderr"
        },
        {
          "output_type": "stream",
          "text": [
            "\n",
            "Test set: Average loss: 0.0796, Accuracy: 9755/10000 (97.55%)\n",
            "\n",
            "epochs 19\n"
          ],
          "name": "stdout"
        },
        {
          "output_type": "stream",
          "text": [
            "Loss=0.24489113688468933 Batch_id=468 Accuracy=96.95: 100%|██████████| 469/469 [00:15<00:00, 29.81it/s]"
          ],
          "name": "stderr"
        },
        {
          "output_type": "stream",
          "text": [
            "[0.08116521259079444]\n"
          ],
          "name": "stdout"
        },
        {
          "output_type": "stream",
          "text": [
            "\n",
            "  0%|          | 0/469 [00:00<?, ?it/s]"
          ],
          "name": "stderr"
        },
        {
          "output_type": "stream",
          "text": [
            "\n",
            "Test set: Average loss: 0.0697, Accuracy: 9773/10000 (97.73%)\n",
            "\n",
            "epochs 20\n"
          ],
          "name": "stdout"
        },
        {
          "output_type": "stream",
          "text": [
            "Loss=0.2924669682979584 Batch_id=468 Accuracy=97.11: 100%|██████████| 469/469 [00:16<00:00, 28.42it/s]\n"
          ],
          "name": "stderr"
        },
        {
          "output_type": "stream",
          "text": [
            "[0.0765915685289049]\n"
          ],
          "name": "stdout"
        },
        {
          "output_type": "stream",
          "text": [
            "\r  0%|          | 0/469 [00:00<?, ?it/s]"
          ],
          "name": "stderr"
        },
        {
          "output_type": "stream",
          "text": [
            "\n",
            "Test set: Average loss: 0.0691, Accuracy: 9785/10000 (97.85%)\n",
            "\n",
            "epochs 21\n"
          ],
          "name": "stdout"
        },
        {
          "output_type": "stream",
          "text": [
            "Loss=0.3103734254837036 Batch_id=468 Accuracy=97.16: 100%|██████████| 469/469 [00:16<00:00, 28.47it/s]"
          ],
          "name": "stderr"
        },
        {
          "output_type": "stream",
          "text": [
            "[0.07168352257909298]\n"
          ],
          "name": "stdout"
        },
        {
          "output_type": "stream",
          "text": [
            "\n",
            "  0%|          | 0/469 [00:00<?, ?it/s]"
          ],
          "name": "stderr"
        },
        {
          "output_type": "stream",
          "text": [
            "\n",
            "Test set: Average loss: 0.0854, Accuracy: 9734/10000 (97.34%)\n",
            "\n",
            "epochs 22\n"
          ],
          "name": "stdout"
        },
        {
          "output_type": "stream",
          "text": [
            "Loss=0.23592916131019592 Batch_id=468 Accuracy=97.12: 100%|██████████| 469/469 [00:16<00:00, 28.03it/s]"
          ],
          "name": "stderr"
        },
        {
          "output_type": "stream",
          "text": [
            "[0.06650279626689218]\n"
          ],
          "name": "stdout"
        },
        {
          "output_type": "stream",
          "text": [
            "\n",
            "  0%|          | 0/469 [00:00<?, ?it/s]"
          ],
          "name": "stderr"
        },
        {
          "output_type": "stream",
          "text": [
            "\n",
            "Test set: Average loss: 0.0673, Accuracy: 9794/10000 (97.94%)\n",
            "\n",
            "epochs 23\n"
          ],
          "name": "stdout"
        },
        {
          "output_type": "stream",
          "text": [
            "Loss=0.2016940861940384 Batch_id=468 Accuracy=97.07: 100%|██████████| 469/469 [00:16<00:00, 29.14it/s]"
          ],
          "name": "stderr"
        },
        {
          "output_type": "stream",
          "text": [
            "[0.0611145402316058]\n"
          ],
          "name": "stdout"
        },
        {
          "output_type": "stream",
          "text": [
            "\n",
            "  0%|          | 0/469 [00:00<?, ?it/s]"
          ],
          "name": "stderr"
        },
        {
          "output_type": "stream",
          "text": [
            "\n",
            "Test set: Average loss: 0.0725, Accuracy: 9778/10000 (97.78%)\n",
            "\n",
            "epochs 24\n"
          ],
          "name": "stdout"
        },
        {
          "output_type": "stream",
          "text": [
            "Loss=0.19907039403915405 Batch_id=468 Accuracy=97.08: 100%|██████████| 469/469 [00:15<00:00, 29.94it/s]"
          ],
          "name": "stderr"
        },
        {
          "output_type": "stream",
          "text": [
            "[0.055586514919216574]\n"
          ],
          "name": "stdout"
        },
        {
          "output_type": "stream",
          "text": [
            "\n",
            "  0%|          | 0/469 [00:00<?, ?it/s]"
          ],
          "name": "stderr"
        },
        {
          "output_type": "stream",
          "text": [
            "\n",
            "Test set: Average loss: 0.0908, Accuracy: 9714/10000 (97.14%)\n",
            "\n",
            "epochs 25\n"
          ],
          "name": "stdout"
        },
        {
          "output_type": "stream",
          "text": [
            "Loss=0.3008434772491455 Batch_id=468 Accuracy=97.14: 100%|██████████| 469/469 [00:16<00:00, 28.74it/s]\n"
          ],
          "name": "stderr"
        },
        {
          "output_type": "stream",
          "text": [
            "[0.0499882384554628]\n"
          ],
          "name": "stdout"
        },
        {
          "output_type": "stream",
          "text": [
            "\r  0%|          | 0/469 [00:00<?, ?it/s]"
          ],
          "name": "stderr"
        },
        {
          "output_type": "stream",
          "text": [
            "\n",
            "Test set: Average loss: 0.0526, Accuracy: 9842/10000 (98.42%)\n",
            "\n",
            "epochs 26\n"
          ],
          "name": "stdout"
        },
        {
          "output_type": "stream",
          "text": [
            "Loss=0.32302552461624146 Batch_id=468 Accuracy=97.16: 100%|██████████| 469/469 [00:16<00:00, 29.02it/s]"
          ],
          "name": "stderr"
        },
        {
          "output_type": "stream",
          "text": [
            "[0.04439011241507181]\n"
          ],
          "name": "stdout"
        },
        {
          "output_type": "stream",
          "text": [
            "\n",
            "  0%|          | 0/469 [00:00<?, ?it/s]"
          ],
          "name": "stderr"
        },
        {
          "output_type": "stream",
          "text": [
            "\n",
            "Test set: Average loss: 0.0458, Accuracy: 9868/10000 (98.68%)\n",
            "\n",
            "epochs 27\n"
          ],
          "name": "stdout"
        },
        {
          "output_type": "stream",
          "text": [
            "Loss=0.21700789034366608 Batch_id=468 Accuracy=97.28: 100%|██████████| 469/469 [00:15<00:00, 29.58it/s]\n"
          ],
          "name": "stderr"
        },
        {
          "output_type": "stream",
          "text": [
            "[0.03886253648110994]\n"
          ],
          "name": "stdout"
        },
        {
          "output_type": "stream",
          "text": [
            "\r  0%|          | 0/469 [00:00<?, ?it/s]"
          ],
          "name": "stderr"
        },
        {
          "output_type": "stream",
          "text": [
            "\n",
            "Test set: Average loss: 0.0517, Accuracy: 9854/10000 (98.54%)\n",
            "\n",
            "epochs 28\n"
          ],
          "name": "stdout"
        },
        {
          "output_type": "stream",
          "text": [
            "Loss=0.2394227385520935 Batch_id=468 Accuracy=97.28: 100%|██████████| 469/469 [00:15<00:00, 30.07it/s]"
          ],
          "name": "stderr"
        },
        {
          "output_type": "stream",
          "text": [
            "[0.03347502312812102]\n"
          ],
          "name": "stdout"
        },
        {
          "output_type": "stream",
          "text": [
            "\n",
            "  0%|          | 0/469 [00:00<?, ?it/s]"
          ],
          "name": "stderr"
        },
        {
          "output_type": "stream",
          "text": [
            "\n",
            "Test set: Average loss: 0.0346, Accuracy: 9898/10000 (98.98%)\n",
            "\n",
            "epochs 29\n"
          ],
          "name": "stdout"
        },
        {
          "output_type": "stream",
          "text": [
            "Loss=0.4464050233364105 Batch_id=468 Accuracy=97.30: 100%|██████████| 469/469 [00:15<00:00, 29.59it/s]"
          ],
          "name": "stderr"
        },
        {
          "output_type": "stream",
          "text": [
            "[0.028295323462426913]\n"
          ],
          "name": "stdout"
        },
        {
          "output_type": "stream",
          "text": [
            "\n",
            "  0%|          | 0/469 [00:00<?, ?it/s]"
          ],
          "name": "stderr"
        },
        {
          "output_type": "stream",
          "text": [
            "\n",
            "Test set: Average loss: 0.0346, Accuracy: 9885/10000 (98.85%)\n",
            "\n",
            "epochs 30\n"
          ],
          "name": "stdout"
        },
        {
          "output_type": "stream",
          "text": [
            "Loss=0.24099110066890717 Batch_id=468 Accuracy=97.50: 100%|██████████| 469/469 [00:16<00:00, 28.81it/s]\n"
          ],
          "name": "stderr"
        },
        {
          "output_type": "stream",
          "text": [
            "[0.023388575212655503]\n"
          ],
          "name": "stdout"
        },
        {
          "output_type": "stream",
          "text": [
            "\r  0%|          | 0/469 [00:00<?, ?it/s]"
          ],
          "name": "stderr"
        },
        {
          "output_type": "stream",
          "text": [
            "\n",
            "Test set: Average loss: 0.0517, Accuracy: 9848/10000 (98.48%)\n",
            "\n",
            "epochs 31\n"
          ],
          "name": "stdout"
        },
        {
          "output_type": "stream",
          "text": [
            "Loss=0.20167405903339386 Batch_id=468 Accuracy=97.56: 100%|██████████| 469/469 [00:15<00:00, 30.36it/s]"
          ],
          "name": "stderr"
        },
        {
          "output_type": "stream",
          "text": [
            "[0.018816483585009303]\n"
          ],
          "name": "stdout"
        },
        {
          "output_type": "stream",
          "text": [
            "\n",
            "  0%|          | 0/469 [00:00<?, ?it/s]"
          ],
          "name": "stderr"
        },
        {
          "output_type": "stream",
          "text": [
            "\n",
            "Test set: Average loss: 0.0521, Accuracy: 9842/10000 (98.42%)\n",
            "\n",
            "epochs 32\n"
          ],
          "name": "stdout"
        },
        {
          "output_type": "stream",
          "text": [
            "Loss=0.1790904402732849 Batch_id=468 Accuracy=97.71: 100%|██████████| 469/469 [00:16<00:00, 29.21it/s]"
          ],
          "name": "stderr"
        },
        {
          "output_type": "stream",
          "text": [
            "[0.014636545284495312]\n"
          ],
          "name": "stdout"
        },
        {
          "output_type": "stream",
          "text": [
            "\n",
            "  0%|          | 0/469 [00:00<?, ?it/s]"
          ],
          "name": "stderr"
        },
        {
          "output_type": "stream",
          "text": [
            "\n",
            "Test set: Average loss: 0.0363, Accuracy: 9879/10000 (98.79%)\n",
            "\n",
            "epochs 33\n"
          ],
          "name": "stdout"
        },
        {
          "output_type": "stream",
          "text": [
            "Loss=0.20854201912879944 Batch_id=468 Accuracy=97.89: 100%|██████████| 469/469 [00:15<00:00, 29.93it/s]\n"
          ],
          "name": "stderr"
        },
        {
          "output_type": "stream",
          "text": [
            "[0.010901325460499198]\n"
          ],
          "name": "stdout"
        },
        {
          "output_type": "stream",
          "text": [
            "\r  0%|          | 0/469 [00:00<?, ?it/s]"
          ],
          "name": "stderr"
        },
        {
          "output_type": "stream",
          "text": [
            "\n",
            "Test set: Average loss: 0.0389, Accuracy: 9875/10000 (98.75%)\n",
            "\n",
            "epochs 34\n"
          ],
          "name": "stdout"
        },
        {
          "output_type": "stream",
          "text": [
            "Loss=0.2138991355895996 Batch_id=468 Accuracy=97.87: 100%|██████████| 469/469 [00:15<00:00, 29.87it/s]\n"
          ],
          "name": "stderr"
        },
        {
          "output_type": "stream",
          "text": [
            "[0.007657796669532729]\n"
          ],
          "name": "stdout"
        },
        {
          "output_type": "stream",
          "text": [
            "\r  0%|          | 0/469 [00:00<?, ?it/s]"
          ],
          "name": "stderr"
        },
        {
          "output_type": "stream",
          "text": [
            "\n",
            "Test set: Average loss: 0.0397, Accuracy: 9877/10000 (98.77%)\n",
            "\n",
            "epochs 35\n"
          ],
          "name": "stdout"
        },
        {
          "output_type": "stream",
          "text": [
            "Loss=0.2045859545469284 Batch_id=468 Accuracy=98.07: 100%|██████████| 469/469 [00:15<00:00, 29.37it/s]"
          ],
          "name": "stderr"
        },
        {
          "output_type": "stream",
          "text": [
            "[0.004946748168081546]\n"
          ],
          "name": "stdout"
        },
        {
          "output_type": "stream",
          "text": [
            "\n",
            "  0%|          | 0/469 [00:00<?, ?it/s]"
          ],
          "name": "stderr"
        },
        {
          "output_type": "stream",
          "text": [
            "\n",
            "Test set: Average loss: 0.0326, Accuracy: 9894/10000 (98.94%)\n",
            "\n",
            "epochs 36\n"
          ],
          "name": "stdout"
        },
        {
          "output_type": "stream",
          "text": [
            "Loss=0.21202397346496582 Batch_id=468 Accuracy=98.29: 100%|██████████| 469/469 [00:15<00:00, 30.50it/s]"
          ],
          "name": "stderr"
        },
        {
          "output_type": "stream",
          "text": [
            "[0.0028022729640383836]\n"
          ],
          "name": "stdout"
        },
        {
          "output_type": "stream",
          "text": [
            "\n",
            "  0%|          | 0/469 [00:00<?, ?it/s]"
          ],
          "name": "stderr"
        },
        {
          "output_type": "stream",
          "text": [
            "\n",
            "Test set: Average loss: 0.0252, Accuracy: 9924/10000 (99.24%)\n",
            "\n",
            "epochs 37\n"
          ],
          "name": "stdout"
        },
        {
          "output_type": "stream",
          "text": [
            "Loss=0.16809123754501343 Batch_id=468 Accuracy=98.45: 100%|██████████| 469/469 [00:15<00:00, 29.41it/s]"
          ],
          "name": "stderr"
        },
        {
          "output_type": "stream",
          "text": [
            "[0.001251339077347576]\n"
          ],
          "name": "stdout"
        },
        {
          "output_type": "stream",
          "text": [
            "\n",
            "  0%|          | 0/469 [00:00<?, ?it/s]"
          ],
          "name": "stderr"
        },
        {
          "output_type": "stream",
          "text": [
            "\n",
            "Test set: Average loss: 0.0220, Accuracy: 9933/10000 (99.33%)\n",
            "\n",
            "epochs 38\n"
          ],
          "name": "stdout"
        },
        {
          "output_type": "stream",
          "text": [
            "Loss=0.11683766543865204 Batch_id=468 Accuracy=98.61: 100%|██████████| 469/469 [00:15<00:00, 30.78it/s]"
          ],
          "name": "stderr"
        },
        {
          "output_type": "stream",
          "text": [
            "[0.00031345040150706035]\n"
          ],
          "name": "stdout"
        },
        {
          "output_type": "stream",
          "text": [
            "\n",
            "  0%|          | 0/469 [00:00<?, ?it/s]"
          ],
          "name": "stderr"
        },
        {
          "output_type": "stream",
          "text": [
            "\n",
            "Test set: Average loss: 0.0209, Accuracy: 9932/10000 (99.32%)\n",
            "\n",
            "epochs 39\n"
          ],
          "name": "stdout"
        },
        {
          "output_type": "stream",
          "text": [
            "Loss=0.11816255748271942 Batch_id=468 Accuracy=98.67: 100%|██████████| 469/469 [00:16<00:00, 28.88it/s]"
          ],
          "name": "stderr"
        },
        {
          "output_type": "stream",
          "text": [
            "[4.0143079121884904e-07]\n"
          ],
          "name": "stdout"
        },
        {
          "output_type": "stream",
          "text": [
            "\n"
          ],
          "name": "stderr"
        },
        {
          "output_type": "stream",
          "text": [
            "\n",
            "Test set: Average loss: 0.0209, Accuracy: 9941/10000 (99.41%)\n",
            "\n"
          ],
          "name": "stdout"
        }
      ]
    },
    {
      "cell_type": "markdown",
      "metadata": {
        "id": "6DKoWuLUms0-",
        "colab_type": "text"
      },
      "source": [
        "**Misclassified iumages obtained during training with L1 regularization**"
      ]
    },
    {
      "cell_type": "code",
      "metadata": {
        "id": "gnjimsE6O-m8",
        "colab_type": "code",
        "outputId": "f5e3fa0f-16ae-48c4-e38c-cb7a33eecc38",
        "colab": {
          "base_uri": "https://localhost:8080/",
          "height": 792
        }
      },
      "source": [
        "figure=plt.figure(figsize=(14,14))\n",
        "#displaying 100 images of plot 10,10\n",
        "for i in range(25):\n",
        "  plt.subplot(5,5,i+1)\n",
        "  plt.axis(False)\n",
        "  plt.imshow(images_array2[i].cpu().numpy().squeeze(),cmap='gray_r')\n",
        "  s=\"predicted=\"+str(predicted_value2[i])+\" actual=\"+str(actual_value2[i])\n",
        "  plt.text(1,2,s)"
      ],
      "execution_count": 0,
      "outputs": [
        {
          "output_type": "display_data",
          "data": {
            "image/png": "[encoded data removed]",
            "text/plain": [
              "<Figure size 1008x1008 with 25 Axes>"
            ]
          },
          "metadata": {
            "tags": []
          }
        }
      ]
    },
    {
      "cell_type": "markdown",
      "metadata": {
        "id": "Gs72ieGgPqWi",
        "colab_type": "text"
      },
      "source": [
        "**Model which is Trained using both L1 and L2 regularization**"
      ]
    },
    {
      "cell_type": "code",
      "metadata": {
        "id": "YZuVq03EPo1q",
        "colab_type": "code",
        "colab": {}
      },
      "source": [
        "#for having cooler graphics we can have tqdm installed\n",
        "from tqdm import tqdm\n",
        "#we are initialising lists to contain loss and accuracy values to plot some graphs\n",
        "test_losses3=[]\n",
        "test_accuracy3=[]\n",
        "images_array3=[]\n",
        "predicted_value3=[]\n",
        "actual_value3=[]\n",
        "count_images=0\n",
        "def train3(model,device,scheduler,train_loader,epoch,optimizer):\n",
        "  #we are calling model.train() so that our model prepares itself in training mode and all other things like batch normalisationa nd dropout behaves accordingly.\n",
        "  model.train()\n",
        "  #so tqdm() just acts on a iterator and it will jsut  gives representations in form of progressbar.\n",
        "  pbar=tqdm(train_loader)\n",
        "  #variables which contain correct values and processed values which helps in finding accuracy and loss\n",
        "  correct=0\n",
        "  processed=0\n",
        "  for batch_idx,(data,target) in enumerate(pbar):\n",
        "    #sending data and target samples to device which is gpu\n",
        "    data,target=data.to(device),target.to(device)\n",
        "    #we are setting our gradients to zero which is very useful\n",
        "    optimizer.zero_grad()\n",
        "    #predicting the output\n",
        "    y_pred=model(data)#print(\"not matching \",\"predicted value is\",predicted[j].item(),\" Actual value is \",target[j].item())\n",
        "    #calculating the loss\n",
        "    loss=F.nll_loss(y_pred,target)\n",
        "    #l1_crit = nn.L1Loss(size_average=False)\n",
        "    reg_loss = 0 \n",
        "    for param in model.parameters(): \n",
        "        reg_loss += torch.sum(param.abs())\n",
        "\n",
        "    factor = 0.0005 \n",
        "    loss += factor * reg_loss\n",
        "    #appending the losses to train_losses array for plotting graph\n",
        "    #updating loss and taking a step by optimizer\n",
        "    loss.backward()\n",
        "    optimizer.step()\n",
        "    #updating tqdm and pbar\n",
        "    #here y_pred will be equal to no of channels in our output\n",
        "    #actually we need that for backpropagation\n",
        "    #now we will find highest value which will be our prediction\n",
        "    #so we will use argmax to fing max value for each image output\n",
        "    #correct will be no of images correctly processes in batch.we will compare pred value to target.if it is equal it will add one value to correct\n",
        "    pred=y_pred.argmax(dim=1,keepdim=True)\n",
        "    processed+=len(data)\n",
        "    #.sum() will count no of trues in prediction for each batch and .item() will convert our tensor output to scalar output\n",
        "    correct+=pred.eq(target.view_as(pred)).sum().item()\n",
        "    #we are appending losses into train_accuracy and we are also appending accuracy at end of each epoch\n",
        "    pbar.set_description(desc=f'Loss={loss.item()} Batch_id={batch_idx} Accuracy={100*correct/processed:0.2f}')\n",
        "    #train_accuracy.append(100*correct/processed)\n",
        "    scheduler.step()\n",
        "  #train_end_epoch.append(train_accuracy[-1])\n",
        "  \n",
        "def test3(model,device,test_loader):\n",
        "  global count_images\n",
        "  loss=0\n",
        "  model.eval()\n",
        "  test_loss=0\n",
        "  correct=0\n",
        "  with torch.no_grad():\n",
        "    for data,target in (test_loader):\n",
        "      data,target=data.to(device),target.to(device)\n",
        "      output=model(data)\n",
        "      test_loss+=F.nll_loss(output,target,reduction='sum').item()\n",
        "      predicted=output.argmax(dim=1,keepdim=True)\n",
        "      #print(len(predicted))\n",
        "      if(count_images<=26):\n",
        "          for j in range(len(predicted)):\n",
        "              if(predicted[j]!=target[j]):\n",
        "                  #print(\"not matching \",\"predicted value is\",predicted[j].item(),\" Actual value is \",target[j].item())\n",
        "                  images_array3.append(data[j])\n",
        "                  predicted_value3.append(predicted[j].item())\n",
        "                  actual_value3.append(target[j].item())\n",
        "                  #figure=plt.figure()\n",
        "                  #plt.imshow(data[j].cpu().squeeze(),cmap='gray_r')\n",
        "                  #plt.show()\n",
        "                  count_images+=1\n",
        "\n",
        "      correct+=predicted.eq(target.view_as(predicted)).sum().item()\n",
        "    \n",
        "    test_loss /= len(test_loader.dataset)\n",
        "    test_losses3.append(test_loss)\n",
        "    \n",
        "    print('\\nTest set: Average loss: {:.4f}, Accuracy: {}/{} ({:.2f}%)\\n'.format(\n",
        "        test_loss, correct, len(test_loader.dataset),\n",
        "        100. * correct / len(test_loader.dataset)))\n",
        "    \n",
        "    test_accuracy3.append(100. * correct / len(test_loader.dataset))\n",
        "    \n"
      ],
      "execution_count": 0,
      "outputs": []
    },
    {
      "cell_type": "code",
      "metadata": {
        "id": "Xi6K27VfPpGU",
        "colab_type": "code",
        "outputId": "75ff0f6e-0ecf-4894-ee8c-3dea549ad4ef",
        "colab": {
          "base_uri": "https://localhost:8080/",
          "height": 1000
        }
      },
      "source": [
        "#importing optimizing step lr and cycle lr from torch.optim.lr_scheduler\n",
        "from torch.optim.lr_scheduler import StepLR\n",
        "from torch.optim.lr_scheduler import OneCycleLR\n",
        "device=\"cuda\" if cuda else \"cpu\"\n",
        "model=Net().to(device)\n",
        "optimizer3=optim.SGD(model.parameters(),lr=0.01,momentum=0.9,weight_decay=0.0005)\n",
        "#scheduler=StepLR(optimizer,gamma=0.5,step_size=5)\n",
        "scheduler=OneCycleLR(optimizer3,max_lr=0.1,steps_per_epoch=len(train_loader),epochs=40)\n",
        "EPOCHS=40\n",
        "for epoch in range(EPOCHS):\n",
        "  print('epochs',epoch)\n",
        "  train3(model,device,scheduler,train_loader,epoch,optimizer3) \n",
        "  print(scheduler.get_lr())\n",
        "  test3(model,device,test_loader)\n"
      ],
      "execution_count": 0,
      "outputs": [
        {
          "output_type": "stream",
          "text": [
            "\r  0%|          | 0/469 [00:00<?, ?it/s]"
          ],
          "name": "stderr"
        },
        {
          "output_type": "stream",
          "text": [
            "epochs 0\n"
          ],
          "name": "stdout"
        },
        {
          "output_type": "stream",
          "text": [
            "Loss=0.3972865343093872 Batch_id=468 Accuracy=81.72: 100%|██████████| 469/469 [00:16<00:00, 28.68it/s]\n"
          ],
          "name": "stderr"
        },
        {
          "output_type": "stream",
          "text": [
            "[0.005636138390090167]\n"
          ],
          "name": "stdout"
        },
        {
          "output_type": "stream",
          "text": [
            "\r  0%|          | 0/469 [00:00<?, ?it/s]"
          ],
          "name": "stderr"
        },
        {
          "output_type": "stream",
          "text": [
            "\n",
            "Test set: Average loss: 0.1343, Accuracy: 9639/10000 (96.39%)\n",
            "\n",
            "epochs 1\n"
          ],
          "name": "stdout"
        },
        {
          "output_type": "stream",
          "text": [
            "Loss=0.22732001543045044 Batch_id=468 Accuracy=96.90: 100%|██████████| 469/469 [00:16<00:00, 28.42it/s]"
          ],
          "name": "stderr"
        },
        {
          "output_type": "stream",
          "text": [
            "[0.010433014025713727]\n"
          ],
          "name": "stdout"
        },
        {
          "output_type": "stream",
          "text": [
            "\n",
            "  0%|          | 0/469 [00:00<?, ?it/s]"
          ],
          "name": "stderr"
        },
        {
          "output_type": "stream",
          "text": [
            "\n",
            "Test set: Average loss: 0.0807, Accuracy: 9757/10000 (97.57%)\n",
            "\n",
            "epochs 2\n"
          ],
          "name": "stdout"
        },
        {
          "output_type": "stream",
          "text": [
            "Loss=0.3762128949165344 Batch_id=468 Accuracy=96.98: 100%|██████████| 469/469 [00:16<00:00, 30.49it/s]"
          ],
          "name": "stderr"
        },
        {
          "output_type": "stream",
          "text": [
            "[0.018063612224373485]\n"
          ],
          "name": "stdout"
        },
        {
          "output_type": "stream",
          "text": [
            "\n",
            "  0%|          | 0/469 [00:00<?, ?it/s]"
          ],
          "name": "stderr"
        },
        {
          "output_type": "stream",
          "text": [
            "\n",
            "Test set: Average loss: 0.0573, Accuracy: 9831/10000 (98.31%)\n",
            "\n",
            "epochs 3\n"
          ],
          "name": "stdout"
        },
        {
          "output_type": "stream",
          "text": [
            "Loss=0.300788015127182 Batch_id=468 Accuracy=97.04: 100%|██████████| 469/469 [00:16<00:00, 29.27it/s]"
          ],
          "name": "stderr"
        },
        {
          "output_type": "stream",
          "text": [
            "[0.028007736542228656]\n"
          ],
          "name": "stdout"
        },
        {
          "output_type": "stream",
          "text": [
            "\n",
            "  0%|          | 0/469 [00:00<?, ?it/s]"
          ],
          "name": "stderr"
        },
        {
          "output_type": "stream",
          "text": [
            "\n",
            "Test set: Average loss: 0.0633, Accuracy: 9803/10000 (98.03%)\n",
            "\n",
            "epochs 4\n"
          ],
          "name": "stdout"
        },
        {
          "output_type": "stream",
          "text": [
            "Loss=0.2603396773338318 Batch_id=468 Accuracy=96.97: 100%|██████████| 469/469 [00:15<00:00, 29.86it/s]"
          ],
          "name": "stderr"
        },
        {
          "output_type": "stream",
          "text": [
            "[0.03958747183126786]\n"
          ],
          "name": "stdout"
        },
        {
          "output_type": "stream",
          "text": [
            "\n",
            "  0%|          | 0/469 [00:00<?, ?it/s]"
          ],
          "name": "stderr"
        },
        {
          "output_type": "stream",
          "text": [
            "\n",
            "Test set: Average loss: 0.0572, Accuracy: 9839/10000 (98.39%)\n",
            "\n",
            "epochs 5\n"
          ],
          "name": "stdout"
        },
        {
          "output_type": "stream",
          "text": [
            "Loss=0.27707865834236145 Batch_id=468 Accuracy=96.89: 100%|██████████| 469/469 [00:16<00:00, 28.92it/s]"
          ],
          "name": "stderr"
        },
        {
          "output_type": "stream",
          "text": [
            "[0.05201339936426283]\n"
          ],
          "name": "stdout"
        },
        {
          "output_type": "stream",
          "text": [
            "\n",
            "  0%|          | 0/469 [00:00<?, ?it/s]"
          ],
          "name": "stderr"
        },
        {
          "output_type": "stream",
          "text": [
            "\n",
            "Test set: Average loss: 0.0908, Accuracy: 9737/10000 (97.37%)\n",
            "\n",
            "epochs 6\n"
          ],
          "name": "stdout"
        },
        {
          "output_type": "stream",
          "text": [
            "Loss=0.3032025098800659 Batch_id=468 Accuracy=96.79: 100%|██████████| 469/469 [00:16<00:00, 28.09it/s]"
          ],
          "name": "stderr"
        },
        {
          "output_type": "stream",
          "text": [
            "[0.06443841342999641]\n"
          ],
          "name": "stdout"
        },
        {
          "output_type": "stream",
          "text": [
            "\n",
            "  0%|          | 0/469 [00:00<?, ?it/s]"
          ],
          "name": "stderr"
        },
        {
          "output_type": "stream",
          "text": [
            "\n",
            "Test set: Average loss: 0.0837, Accuracy: 9752/10000 (97.52%)\n",
            "\n",
            "epochs 7\n"
          ],
          "name": "stdout"
        },
        {
          "output_type": "stream",
          "text": [
            "Loss=0.28415098786354065 Batch_id=468 Accuracy=96.71: 100%|██████████| 469/469 [00:16<00:00, 28.90it/s]"
          ],
          "name": "stderr"
        },
        {
          "output_type": "stream",
          "text": [
            "[0.07601547059053707]\n"
          ],
          "name": "stdout"
        },
        {
          "output_type": "stream",
          "text": [
            "\n",
            "  0%|          | 0/469 [00:00<?, ?it/s]"
          ],
          "name": "stderr"
        },
        {
          "output_type": "stream",
          "text": [
            "\n",
            "Test set: Average loss: 0.1496, Accuracy: 9541/10000 (95.41%)\n",
            "\n",
            "epochs 8\n"
          ],
          "name": "stdout"
        },
        {
          "output_type": "stream",
          "text": [
            "Loss=0.28463488817214966 Batch_id=468 Accuracy=96.75: 100%|██████████| 469/469 [00:16<00:00, 28.80it/s]"
          ],
          "name": "stderr"
        },
        {
          "output_type": "stream",
          "text": [
            "[0.08595533469319193]\n"
          ],
          "name": "stdout"
        },
        {
          "output_type": "stream",
          "text": [
            "\n",
            "  0%|          | 0/469 [00:00<?, ?it/s]"
          ],
          "name": "stderr"
        },
        {
          "output_type": "stream",
          "text": [
            "\n",
            "Test set: Average loss: 0.1653, Accuracy: 9451/10000 (94.51%)\n",
            "\n",
            "epochs 9\n"
          ],
          "name": "stdout"
        },
        {
          "output_type": "stream",
          "text": [
            "Loss=0.2575078010559082 Batch_id=468 Accuracy=96.69: 100%|██████████| 469/469 [00:16<00:00, 28.67it/s]"
          ],
          "name": "stderr"
        },
        {
          "output_type": "stream",
          "text": [
            "[0.09358038101918463]\n"
          ],
          "name": "stdout"
        },
        {
          "output_type": "stream",
          "text": [
            "\n",
            "  0%|          | 0/469 [00:00<?, ?it/s]"
          ],
          "name": "stderr"
        },
        {
          "output_type": "stream",
          "text": [
            "\n",
            "Test set: Average loss: 0.0626, Accuracy: 9823/10000 (98.23%)\n",
            "\n",
            "epochs 10\n"
          ],
          "name": "stdout"
        },
        {
          "output_type": "stream",
          "text": [
            "Loss=0.28347423672676086 Batch_id=468 Accuracy=96.62: 100%|██████████| 469/469 [00:15<00:00, 29.33it/s]"
          ],
          "name": "stderr"
        },
        {
          "output_type": "stream",
          "text": [
            "[0.09837079160934131]\n"
          ],
          "name": "stdout"
        },
        {
          "output_type": "stream",
          "text": [
            "\n",
            "  0%|          | 0/469 [00:00<?, ?it/s]"
          ],
          "name": "stderr"
        },
        {
          "output_type": "stream",
          "text": [
            "\n",
            "Test set: Average loss: 0.0855, Accuracy: 9750/10000 (97.50%)\n",
            "\n",
            "epochs 11\n"
          ],
          "name": "stdout"
        },
        {
          "output_type": "stream",
          "text": [
            "Loss=0.2902500629425049 Batch_id=468 Accuracy=96.78: 100%|██████████| 469/469 [00:16<00:00, 28.06it/s]"
          ],
          "name": "stderr"
        },
        {
          "output_type": "stream",
          "text": [
            "[0.09999999856920878]\n"
          ],
          "name": "stdout"
        },
        {
          "output_type": "stream",
          "text": [
            "\n",
            "  0%|          | 0/469 [00:00<?, ?it/s]"
          ],
          "name": "stderr"
        },
        {
          "output_type": "stream",
          "text": [
            "\n",
            "Test set: Average loss: 0.0648, Accuracy: 9804/10000 (98.04%)\n",
            "\n",
            "epochs 12\n"
          ],
          "name": "stdout"
        },
        {
          "output_type": "stream",
          "text": [
            "Loss=0.22548939287662506 Batch_id=468 Accuracy=96.55: 100%|██████████| 469/469 [00:16<00:00, 29.03it/s]\n"
          ],
          "name": "stderr"
        },
        {
          "output_type": "stream",
          "text": [
            "[0.09968427106235794]\n"
          ],
          "name": "stdout"
        },
        {
          "output_type": "stream",
          "text": [
            "\r  0%|          | 0/469 [00:00<?, ?it/s]"
          ],
          "name": "stderr"
        },
        {
          "output_type": "stream",
          "text": [
            "\n",
            "Test set: Average loss: 0.0698, Accuracy: 9816/10000 (98.16%)\n",
            "\n",
            "epochs 13\n"
          ],
          "name": "stdout"
        },
        {
          "output_type": "stream",
          "text": [
            "Loss=0.28524160385131836 Batch_id=468 Accuracy=96.74: 100%|██████████| 469/469 [00:16<00:00, 34.21it/s]"
          ],
          "name": "stderr"
        },
        {
          "output_type": "stream",
          "text": [
            "[0.09874373753452848]\n"
          ],
          "name": "stdout"
        },
        {
          "output_type": "stream",
          "text": [
            "\n",
            "  0%|          | 0/469 [00:00<?, ?it/s]"
          ],
          "name": "stderr"
        },
        {
          "output_type": "stream",
          "text": [
            "\n",
            "Test set: Average loss: 0.0947, Accuracy: 9712/10000 (97.12%)\n",
            "\n",
            "epochs 14\n"
          ],
          "name": "stdout"
        },
        {
          "output_type": "stream",
          "text": [
            "Loss=0.38667309284210205 Batch_id=468 Accuracy=96.57: 100%|██████████| 469/469 [00:15<00:00, 29.38it/s]"
          ],
          "name": "stderr"
        },
        {
          "output_type": "stream",
          "text": [
            "[0.09719022574054306]\n"
          ],
          "name": "stdout"
        },
        {
          "output_type": "stream",
          "text": [
            "\n",
            "  0%|          | 0/469 [00:00<?, ?it/s]"
          ],
          "name": "stderr"
        },
        {
          "output_type": "stream",
          "text": [
            "\n",
            "Test set: Average loss: 0.0585, Accuracy: 9815/10000 (98.15%)\n",
            "\n",
            "epochs 15\n"
          ],
          "name": "stdout"
        },
        {
          "output_type": "stream",
          "text": [
            "Loss=0.28606292605400085 Batch_id=468 Accuracy=96.68: 100%|██████████| 469/469 [00:16<00:00, 28.19it/s]\n"
          ],
          "name": "stderr"
        },
        {
          "output_type": "stream",
          "text": [
            "[0.09504327199257961]\n"
          ],
          "name": "stdout"
        },
        {
          "output_type": "stream",
          "text": [
            "\r  0%|          | 0/469 [00:00<?, ?it/s]"
          ],
          "name": "stderr"
        },
        {
          "output_type": "stream",
          "text": [
            "\n",
            "Test set: Average loss: 0.0727, Accuracy: 9787/10000 (97.87%)\n",
            "\n",
            "epochs 16\n"
          ],
          "name": "stdout"
        },
        {
          "output_type": "stream",
          "text": [
            "Loss=0.2670816481113434 Batch_id=468 Accuracy=96.70: 100%|██████████| 469/469 [00:16<00:00, 27.93it/s]"
          ],
          "name": "stderr"
        },
        {
          "output_type": "stream",
          "text": [
            "[0.09232987547971035]\n"
          ],
          "name": "stdout"
        },
        {
          "output_type": "stream",
          "text": [
            "\n",
            "  0%|          | 0/469 [00:00<?, ?it/s]"
          ],
          "name": "stderr"
        },
        {
          "output_type": "stream",
          "text": [
            "\n",
            "Test set: Average loss: 0.1379, Accuracy: 9570/10000 (95.70%)\n",
            "\n",
            "epochs 17\n"
          ],
          "name": "stdout"
        },
        {
          "output_type": "stream",
          "text": [
            "Loss=0.2660461366176605 Batch_id=468 Accuracy=96.77: 100%|██████████| 469/469 [00:16<00:00, 29.30it/s]"
          ],
          "name": "stderr"
        },
        {
          "output_type": "stream",
          "text": [
            "[0.08908415873743396]\n"
          ],
          "name": "stdout"
        },
        {
          "output_type": "stream",
          "text": [
            "\n",
            "  0%|          | 0/469 [00:00<?, ?it/s]"
          ],
          "name": "stderr"
        },
        {
          "output_type": "stream",
          "text": [
            "\n",
            "Test set: Average loss: 0.0558, Accuracy: 9826/10000 (98.26%)\n",
            "\n",
            "epochs 18\n"
          ],
          "name": "stdout"
        },
        {
          "output_type": "stream",
          "text": [
            "Loss=0.30260851979255676 Batch_id=468 Accuracy=96.82: 100%|██████████| 469/469 [00:16<00:00, 28.08it/s]"
          ],
          "name": "stderr"
        },
        {
          "output_type": "stream",
          "text": [
            "[0.08534693853699324]\n"
          ],
          "name": "stdout"
        },
        {
          "output_type": "stream",
          "text": [
            "\n",
            "  0%|          | 0/469 [00:00<?, ?it/s]"
          ],
          "name": "stderr"
        },
        {
          "output_type": "stream",
          "text": [
            "\n",
            "Test set: Average loss: 0.0731, Accuracy: 9779/10000 (97.79%)\n",
            "\n",
            "epochs 19\n"
          ],
          "name": "stdout"
        },
        {
          "output_type": "stream",
          "text": [
            "Loss=0.2691902816295624 Batch_id=468 Accuracy=96.77: 100%|██████████| 469/469 [00:16<00:00, 28.52it/s]\n"
          ],
          "name": "stderr"
        },
        {
          "output_type": "stream",
          "text": [
            "[0.08116521259079444]\n"
          ],
          "name": "stdout"
        },
        {
          "output_type": "stream",
          "text": [
            "\r  0%|          | 0/469 [00:00<?, ?it/s]"
          ],
          "name": "stderr"
        },
        {
          "output_type": "stream",
          "text": [
            "\n",
            "Test set: Average loss: 0.0793, Accuracy: 9759/10000 (97.59%)\n",
            "\n",
            "epochs 20\n"
          ],
          "name": "stdout"
        },
        {
          "output_type": "stream",
          "text": [
            "Loss=0.2029421329498291 Batch_id=468 Accuracy=96.77: 100%|██████████| 469/469 [00:16<00:00, 28.12it/s]\n"
          ],
          "name": "stderr"
        },
        {
          "output_type": "stream",
          "text": [
            "[0.0765915685289049]\n"
          ],
          "name": "stdout"
        },
        {
          "output_type": "stream",
          "text": [
            "\r  0%|          | 0/469 [00:00<?, ?it/s]"
          ],
          "name": "stderr"
        },
        {
          "output_type": "stream",
          "text": [
            "\n",
            "Test set: Average loss: 0.0822, Accuracy: 9773/10000 (97.73%)\n",
            "\n",
            "epochs 21\n"
          ],
          "name": "stdout"
        },
        {
          "output_type": "stream",
          "text": [
            "Loss=0.2059294432401657 Batch_id=468 Accuracy=96.86: 100%|██████████| 469/469 [00:16<00:00, 34.51it/s]"
          ],
          "name": "stderr"
        },
        {
          "output_type": "stream",
          "text": [
            "[0.07168352257909298]\n"
          ],
          "name": "stdout"
        },
        {
          "output_type": "stream",
          "text": [
            "\n",
            "  0%|          | 0/469 [00:00<?, ?it/s]"
          ],
          "name": "stderr"
        },
        {
          "output_type": "stream",
          "text": [
            "\n",
            "Test set: Average loss: 0.0600, Accuracy: 9830/10000 (98.30%)\n",
            "\n",
            "epochs 22\n"
          ],
          "name": "stdout"
        },
        {
          "output_type": "stream",
          "text": [
            "Loss=0.18930405378341675 Batch_id=468 Accuracy=96.83: 100%|██████████| 469/469 [00:16<00:00, 31.69it/s]"
          ],
          "name": "stderr"
        },
        {
          "output_type": "stream",
          "text": [
            "[0.06650279626689218]\n"
          ],
          "name": "stdout"
        },
        {
          "output_type": "stream",
          "text": [
            "\n",
            "  0%|          | 0/469 [00:00<?, ?it/s]"
          ],
          "name": "stderr"
        },
        {
          "output_type": "stream",
          "text": [
            "\n",
            "Test set: Average loss: 0.0667, Accuracy: 9779/10000 (97.79%)\n",
            "\n",
            "epochs 23\n"
          ],
          "name": "stdout"
        },
        {
          "output_type": "stream",
          "text": [
            "Loss=0.23909994959831238 Batch_id=468 Accuracy=96.93: 100%|██████████| 469/469 [00:16<00:00, 28.46it/s]"
          ],
          "name": "stderr"
        },
        {
          "output_type": "stream",
          "text": [
            "[0.0611145402316058]\n"
          ],
          "name": "stdout"
        },
        {
          "output_type": "stream",
          "text": [
            "\n",
            "  0%|          | 0/469 [00:00<?, ?it/s]"
          ],
          "name": "stderr"
        },
        {
          "output_type": "stream",
          "text": [
            "\n",
            "Test set: Average loss: 0.0743, Accuracy: 9769/10000 (97.69%)\n",
            "\n",
            "epochs 24\n"
          ],
          "name": "stdout"
        },
        {
          "output_type": "stream",
          "text": [
            "Loss=0.24670124053955078 Batch_id=468 Accuracy=96.98: 100%|██████████| 469/469 [00:16<00:00, 28.52it/s]"
          ],
          "name": "stderr"
        },
        {
          "output_type": "stream",
          "text": [
            "[0.055586514919216574]\n"
          ],
          "name": "stdout"
        },
        {
          "output_type": "stream",
          "text": [
            "\n",
            "  0%|          | 0/469 [00:00<?, ?it/s]"
          ],
          "name": "stderr"
        },
        {
          "output_type": "stream",
          "text": [
            "\n",
            "Test set: Average loss: 0.0701, Accuracy: 9807/10000 (98.07%)\n",
            "\n",
            "epochs 25\n"
          ],
          "name": "stdout"
        },
        {
          "output_type": "stream",
          "text": [
            "Loss=0.26691514253616333 Batch_id=468 Accuracy=96.94: 100%|██████████| 469/469 [00:16<00:00, 28.41it/s]"
          ],
          "name": "stderr"
        },
        {
          "output_type": "stream",
          "text": [
            "[0.0499882384554628]\n"
          ],
          "name": "stdout"
        },
        {
          "output_type": "stream",
          "text": [
            "\n",
            "  0%|          | 0/469 [00:00<?, ?it/s]"
          ],
          "name": "stderr"
        },
        {
          "output_type": "stream",
          "text": [
            "\n",
            "Test set: Average loss: 0.0605, Accuracy: 9827/10000 (98.27%)\n",
            "\n",
            "epochs 26\n"
          ],
          "name": "stdout"
        },
        {
          "output_type": "stream",
          "text": [
            "Loss=0.2170308530330658 Batch_id=468 Accuracy=97.07: 100%|██████████| 469/469 [00:16<00:00, 28.44it/s]"
          ],
          "name": "stderr"
        },
        {
          "output_type": "stream",
          "text": [
            "[0.04439011241507181]\n"
          ],
          "name": "stdout"
        },
        {
          "output_type": "stream",
          "text": [
            "\n",
            "  0%|          | 0/469 [00:00<?, ?it/s]"
          ],
          "name": "stderr"
        },
        {
          "output_type": "stream",
          "text": [
            "\n",
            "Test set: Average loss: 0.0569, Accuracy: 9820/10000 (98.20%)\n",
            "\n",
            "epochs 27\n"
          ],
          "name": "stdout"
        },
        {
          "output_type": "stream",
          "text": [
            "Loss=0.3300568461418152 Batch_id=468 Accuracy=97.06: 100%|██████████| 469/469 [00:16<00:00, 28.74it/s]"
          ],
          "name": "stderr"
        },
        {
          "output_type": "stream",
          "text": [
            "[0.03886253648110994]\n"
          ],
          "name": "stdout"
        },
        {
          "output_type": "stream",
          "text": [
            "\n",
            "  0%|          | 0/469 [00:00<?, ?it/s]"
          ],
          "name": "stderr"
        },
        {
          "output_type": "stream",
          "text": [
            "\n",
            "Test set: Average loss: 0.1018, Accuracy: 9691/10000 (96.91%)\n",
            "\n",
            "epochs 28\n"
          ],
          "name": "stdout"
        },
        {
          "output_type": "stream",
          "text": [
            "Loss=0.33701515197753906 Batch_id=468 Accuracy=97.12: 100%|██████████| 469/469 [00:16<00:00, 37.90it/s]"
          ],
          "name": "stderr"
        },
        {
          "output_type": "stream",
          "text": [
            "[0.03347502312812102]\n"
          ],
          "name": "stdout"
        },
        {
          "output_type": "stream",
          "text": [
            "\n",
            "  0%|          | 0/469 [00:00<?, ?it/s]"
          ],
          "name": "stderr"
        },
        {
          "output_type": "stream",
          "text": [
            "\n",
            "Test set: Average loss: 0.0553, Accuracy: 9847/10000 (98.47%)\n",
            "\n",
            "epochs 29\n"
          ],
          "name": "stdout"
        },
        {
          "output_type": "stream",
          "text": [
            "Loss=0.15361149609088898 Batch_id=468 Accuracy=97.30: 100%|██████████| 469/469 [00:16<00:00, 27.69it/s]"
          ],
          "name": "stderr"
        },
        {
          "output_type": "stream",
          "text": [
            "[0.028295323462426913]\n"
          ],
          "name": "stdout"
        },
        {
          "output_type": "stream",
          "text": [
            "\n",
            "  0%|          | 0/469 [00:00<?, ?it/s]"
          ],
          "name": "stderr"
        },
        {
          "output_type": "stream",
          "text": [
            "\n",
            "Test set: Average loss: 0.0469, Accuracy: 9858/10000 (98.58%)\n",
            "\n",
            "epochs 30\n"
          ],
          "name": "stdout"
        },
        {
          "output_type": "stream",
          "text": [
            "Loss=0.2242826670408249 Batch_id=468 Accuracy=97.32: 100%|██████████| 469/469 [00:16<00:00, 28.88it/s]\n"
          ],
          "name": "stderr"
        },
        {
          "output_type": "stream",
          "text": [
            "[0.023388575212655503]\n"
          ],
          "name": "stdout"
        },
        {
          "output_type": "stream",
          "text": [
            "\r  0%|          | 0/469 [00:00<?, ?it/s]"
          ],
          "name": "stderr"
        },
        {
          "output_type": "stream",
          "text": [
            "\n",
            "Test set: Average loss: 0.0584, Accuracy: 9828/10000 (98.28%)\n",
            "\n",
            "epochs 31\n"
          ],
          "name": "stdout"
        },
        {
          "output_type": "stream",
          "text": [
            "Loss=0.19383853673934937 Batch_id=468 Accuracy=97.47: 100%|██████████| 469/469 [00:16<00:00, 27.66it/s]"
          ],
          "name": "stderr"
        },
        {
          "output_type": "stream",
          "text": [
            "[0.018816483585009303]\n"
          ],
          "name": "stdout"
        },
        {
          "output_type": "stream",
          "text": [
            "\n",
            "  0%|          | 0/469 [00:00<?, ?it/s]"
          ],
          "name": "stderr"
        },
        {
          "output_type": "stream",
          "text": [
            "\n",
            "Test set: Average loss: 0.0537, Accuracy: 9842/10000 (98.42%)\n",
            "\n",
            "epochs 32\n"
          ],
          "name": "stdout"
        },
        {
          "output_type": "stream",
          "text": [
            "Loss=0.17260833084583282 Batch_id=468 Accuracy=97.50: 100%|██████████| 469/469 [00:16<00:00, 28.32it/s]"
          ],
          "name": "stderr"
        },
        {
          "output_type": "stream",
          "text": [
            "[0.014636545284495312]\n"
          ],
          "name": "stdout"
        },
        {
          "output_type": "stream",
          "text": [
            "\n",
            "  0%|          | 0/469 [00:00<?, ?it/s]"
          ],
          "name": "stderr"
        },
        {
          "output_type": "stream",
          "text": [
            "\n",
            "Test set: Average loss: 0.0506, Accuracy: 9864/10000 (98.64%)\n",
            "\n",
            "epochs 33\n"
          ],
          "name": "stdout"
        },
        {
          "output_type": "stream",
          "text": [
            "Loss=0.1508241593837738 Batch_id=468 Accuracy=97.59: 100%|██████████| 469/469 [00:16<00:00, 28.03it/s]"
          ],
          "name": "stderr"
        },
        {
          "output_type": "stream",
          "text": [
            "[0.010901325460499198]\n"
          ],
          "name": "stdout"
        },
        {
          "output_type": "stream",
          "text": [
            "\n",
            "  0%|          | 0/469 [00:00<?, ?it/s]"
          ],
          "name": "stderr"
        },
        {
          "output_type": "stream",
          "text": [
            "\n",
            "Test set: Average loss: 0.0429, Accuracy: 9867/10000 (98.67%)\n",
            "\n",
            "epochs 34\n"
          ],
          "name": "stdout"
        },
        {
          "output_type": "stream",
          "text": [
            "Loss=0.2204306423664093 Batch_id=468 Accuracy=97.78: 100%|██████████| 469/469 [00:16<00:00, 28.76it/s]"
          ],
          "name": "stderr"
        },
        {
          "output_type": "stream",
          "text": [
            "[0.007657796669532729]\n"
          ],
          "name": "stdout"
        },
        {
          "output_type": "stream",
          "text": [
            "\n",
            "  0%|          | 0/469 [00:00<?, ?it/s]"
          ],
          "name": "stderr"
        },
        {
          "output_type": "stream",
          "text": [
            "\n",
            "Test set: Average loss: 0.0514, Accuracy: 9836/10000 (98.36%)\n",
            "\n",
            "epochs 35\n"
          ],
          "name": "stdout"
        },
        {
          "output_type": "stream",
          "text": [
            "Loss=0.11407562345266342 Batch_id=468 Accuracy=98.01: 100%|██████████| 469/469 [00:16<00:00, 28.85it/s]"
          ],
          "name": "stderr"
        },
        {
          "output_type": "stream",
          "text": [
            "[0.004946748168081546]\n"
          ],
          "name": "stdout"
        },
        {
          "output_type": "stream",
          "text": [
            "\n",
            "  0%|          | 0/469 [00:00<?, ?it/s]"
          ],
          "name": "stderr"
        },
        {
          "output_type": "stream",
          "text": [
            "\n",
            "Test set: Average loss: 0.0344, Accuracy: 9907/10000 (99.07%)\n",
            "\n",
            "epochs 36\n"
          ],
          "name": "stdout"
        },
        {
          "output_type": "stream",
          "text": [
            "Loss=0.14306829869747162 Batch_id=468 Accuracy=98.20: 100%|██████████| 469/469 [00:16<00:00, 34.86it/s]"
          ],
          "name": "stderr"
        },
        {
          "output_type": "stream",
          "text": [
            "[0.0028022729640383836]\n"
          ],
          "name": "stdout"
        },
        {
          "output_type": "stream",
          "text": [
            "\n",
            "  0%|          | 0/469 [00:00<?, ?it/s]"
          ],
          "name": "stderr"
        },
        {
          "output_type": "stream",
          "text": [
            "\n",
            "Test set: Average loss: 0.0260, Accuracy: 9925/10000 (99.25%)\n",
            "\n",
            "epochs 37\n"
          ],
          "name": "stdout"
        },
        {
          "output_type": "stream",
          "text": [
            "Loss=0.14499081671237946 Batch_id=468 Accuracy=98.48: 100%|██████████| 469/469 [00:16<00:00, 27.99it/s]\n"
          ],
          "name": "stderr"
        },
        {
          "output_type": "stream",
          "text": [
            "[0.001251339077347576]\n"
          ],
          "name": "stdout"
        },
        {
          "output_type": "stream",
          "text": [
            "\r  0%|          | 0/469 [00:00<?, ?it/s]"
          ],
          "name": "stderr"
        },
        {
          "output_type": "stream",
          "text": [
            "\n",
            "Test set: Average loss: 0.0277, Accuracy: 9912/10000 (99.12%)\n",
            "\n",
            "epochs 38\n"
          ],
          "name": "stdout"
        },
        {
          "output_type": "stream",
          "text": [
            "Loss=0.12307122349739075 Batch_id=468 Accuracy=98.59: 100%|██████████| 469/469 [00:17<00:00, 27.47it/s]\n"
          ],
          "name": "stderr"
        },
        {
          "output_type": "stream",
          "text": [
            "[0.00031345040150706035]\n"
          ],
          "name": "stdout"
        },
        {
          "output_type": "stream",
          "text": [
            "\r  0%|          | 0/469 [00:00<?, ?it/s]"
          ],
          "name": "stderr"
        },
        {
          "output_type": "stream",
          "text": [
            "\n",
            "Test set: Average loss: 0.0235, Accuracy: 9928/10000 (99.28%)\n",
            "\n",
            "epochs 39\n"
          ],
          "name": "stdout"
        },
        {
          "output_type": "stream",
          "text": [
            "Loss=0.10353925824165344 Batch_id=468 Accuracy=98.74: 100%|██████████| 469/469 [00:16<00:00, 34.34it/s]"
          ],
          "name": "stderr"
        },
        {
          "output_type": "stream",
          "text": [
            "[4.0143079121884904e-07]\n"
          ],
          "name": "stdout"
        },
        {
          "output_type": "stream",
          "text": [
            "\n"
          ],
          "name": "stderr"
        },
        {
          "output_type": "stream",
          "text": [
            "\n",
            "Test set: Average loss: 0.0233, Accuracy: 9932/10000 (99.32%)\n",
            "\n"
          ],
          "name": "stdout"
        }
      ]
    },
    {
      "cell_type": "markdown",
      "metadata": {
        "id": "LTlAtTzonF8o",
        "colab_type": "text"
      },
      "source": [
        "**Misclassified images obtained during training with both L1 and L2 regularization**"
      ]
    },
    {
      "cell_type": "code",
      "metadata": {
        "id": "7nVo8RjKPpWK",
        "colab_type": "code",
        "outputId": "9d0a5c78-1329-408d-abbc-af1960bf04b9",
        "colab": {
          "base_uri": "https://localhost:8080/",
          "height": 792
        }
      },
      "source": [
        "figure=plt.figure(figsize=(14,14))\n",
        "#displaying 100 images of plot 10,10\n",
        "for i in range(25):\n",
        "  plt.subplot(5,5,i+1)\n",
        "  plt.axis(False)\n",
        "  plt.imshow(images_array3[i].cpu().numpy().squeeze(),cmap='gray_r')\n",
        "  s=\"predicted=\"+str(predicted_value3[i])+\" actual=\"+str(actual_value3[i])\n",
        "  plt.text(1,2,s)"
      ],
      "execution_count": 0,
      "outputs": [
        {
          "output_type": "display_data",
          "data": {
            "image/png": "[encoded data removed]",
            "text/plain": [
              "<Figure size 1008x1008 with 25 Axes>"
            ]
          },
          "metadata": {
            "tags": []
          }
        }
      ]
    },
    {
      "cell_type": "code",
      "metadata": {
        "id": "psn1lT0NqBYF",
        "colab_type": "code",
        "outputId": "260f6407-a96c-4170-e8d7-cfbf6f518b02",
        "colab": {
          "base_uri": "https://localhost:8080/",
          "height": 294
        }
      },
      "source": [
        "epochs=[i+1 for i in range(40)]\n",
        "plt.plot(epochs,test_accuracy)\n",
        "plt.plot(epochs,test_accuracy2)\n",
        "plt.plot(epochs,test_accuracy1)\n",
        "plt.plot(epochs,test_accuracy3)\n",
        "plt.title('Validation accuracy change using different regularization techniques')\n",
        "plt.ylabel('Validation accuracy')\n",
        "plt.xlabel('epochs')\n",
        "plt.legend(['without L1 and L2', 'with L1','with L2','With L1 and L2'], loc='upper left')\n",
        "plt.show()"
      ],
      "execution_count": 0,
      "outputs": [
        {
          "output_type": "display_data",
          "data": {
            "image/png": "[encoded data removed]",
            "text/plain": [
              "<Figure size 432x288 with 1 Axes>"
            ]
          },
          "metadata": {
            "tags": []
          }
        }
      ]
    },
    {
      "cell_type": "code",
      "metadata": {
        "id": "vxrErBl6tMAe",
        "colab_type": "code",
        "outputId": "376c1833-0278-4f9a-cfdd-14e49276beb2",
        "colab": {
          "base_uri": "https://localhost:8080/",
          "height": 294
        }
      },
      "source": [
        "epochs=[i+1 for i in range(40)]\n",
        "plt.plot(epochs,test_losses)\n",
        "plt.plot(epochs,test_losses2)\n",
        "plt.plot(epochs,test_losses1)\n",
        "plt.plot(epochs,test_losses3)\n",
        "plt.title('Validation loss change using different regularization techniques')\n",
        "plt.ylabel('losses')\n",
        "plt.xlabel('epochs')\n",
        "plt.legend(['without L1 and L2', 'with L1','with L2','With L1 and L2'], loc='upper left')\n",
        "plt.show()"
      ],
      "execution_count": 0,
      "outputs": [
        {
          "output_type": "display_data",
          "data": {
            "image/png": "[encoded data removed]",
            "text/plain": [
              "<Figure size 432x288 with 1 Axes>"
            ]
          },
          "metadata": {
            "tags": []
          }
        }
      ]
    }
  ]
}